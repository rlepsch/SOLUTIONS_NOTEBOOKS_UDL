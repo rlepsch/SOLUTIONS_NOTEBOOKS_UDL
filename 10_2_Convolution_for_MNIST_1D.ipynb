{
 "cells": [
  {
   "cell_type": "markdown",
   "metadata": {
    "colab_type": "text",
    "id": "view-in-github"
   },
   "source": [
    "<a href=\"https://colab.research.google.com/github/udlbook/udlbook/blob/main/Notebooks/Chap10/10_2_Convolution_for_MNIST_1D.ipynb\" target=\"_parent\"><img src=\"https://colab.research.google.com/assets/colab-badge.svg\" alt=\"Open In Colab\"/></a>"
   ]
  },
  {
   "cell_type": "markdown",
   "metadata": {
    "id": "t9vk9Elugvmi"
   },
   "source": [
    "# **Notebook 10.2: Convolution for MNIST-1D**\n",
    "\n",
    "This notebook investigates a 1D convolutional network for MNIST-1D as in figure 10.7 and 10.8a.\n",
    "\n",
    "Work through the cells below, running each cell in turn. In various places you will see the words \"TO DO\". Follow the instructions at these places and make predictions about what is going to happen or write code to complete the functions.\n",
    "\n",
    "Contact me at udlbookmail@gmail.com if you find any mistakes or have any suggestions.\n",
    "\n"
   ]
  },
  {
   "cell_type": "code",
   "execution_count": 1,
   "metadata": {
    "id": "D5yLObtZCi9J"
   },
   "outputs": [
    {
     "name": "stdout",
     "output_type": "stream",
     "text": [
      "fatal: destination path 'mnist1d' already exists and is not an empty directory.\r\n"
     ]
    }
   ],
   "source": [
    "# Run this if you're in a Colab to make a local copy of the MNIST 1D repository\n",
    "!git clone https://github.com/greydanus/mnist1d"
   ]
  },
  {
   "cell_type": "code",
   "execution_count": 2,
   "metadata": {
    "id": "YrXWAH7sUWvU"
   },
   "outputs": [],
   "source": [
    "import numpy as np\n",
    "import os\n",
    "import torch, torch.nn as nn\n",
    "from torch.utils.data import TensorDataset, DataLoader\n",
    "from torch.optim.lr_scheduler import StepLR\n",
    "import matplotlib.pyplot as plt\n",
    "import mnist1d\n",
    "import random"
   ]
  },
  {
   "cell_type": "code",
   "execution_count": 3,
   "metadata": {
    "id": "twI72ZCrCt5z"
   },
   "outputs": [
    {
     "name": "stdout",
     "output_type": "stream",
     "text": [
      "Successfully loaded data from ./mnist1d_data.pkl\n",
      "Examples in training set: 4000\n",
      "Examples in test set: 4000\n",
      "Length of each example: 40\n"
     ]
    }
   ],
   "source": [
    "args = mnist1d.data.get_dataset_args()\n",
    "data = mnist1d.data.get_dataset(args, path='./mnist1d_data.pkl', download=False, regenerate=False)\n",
    "\n",
    "# The training and test input and outputs are in\n",
    "# data['x'], data['y'], data['x_test'], and data['y_test']\n",
    "print(\"Examples in training set: {}\".format(len(data['y'])))\n",
    "print(\"Examples in test set: {}\".format(len(data['y_test'])))\n",
    "print(\"Length of each example: {}\".format(data['x'].shape[-1]))"
   ]
  },
  {
   "cell_type": "code",
   "execution_count": 4,
   "metadata": {
    "id": "8bKADvLHbiV5"
   },
   "outputs": [
    {
     "name": "stdout",
     "output_type": "stream",
     "text": [
      "Train data: 4000 examples (columns), each of which has 40 dimensions (rows)\n",
      "Validation data: 4000 examples (columns), each of which has 40 dimensions (rows)\n"
     ]
    }
   ],
   "source": [
    "# Load in the data\n",
    "train_data_x = data['x'].transpose()\n",
    "train_data_y = data['y']\n",
    "val_data_x = data['x_test'].transpose()\n",
    "val_data_y = data['y_test']\n",
    "# Print out sizes\n",
    "print(\"Train data: %d examples (columns), each of which has %d dimensions (rows)\"%((train_data_x.shape[1],train_data_x.shape[0])))\n",
    "print(\"Validation data: %d examples (columns), each of which has %d dimensions (rows)\"%((val_data_x.shape[1],val_data_x.shape[0])))"
   ]
  },
  {
   "cell_type": "markdown",
   "metadata": {
    "id": "_sFvRDGrl4qe"
   },
   "source": [
    "Define the network"
   ]
  },
  {
   "cell_type": "code",
   "execution_count": 5,
   "metadata": {
    "id": "FslroPJJffrh"
   },
   "outputs": [],
   "source": [
    "# There are 40 input dimensions and 10 output dimensions for this data\n",
    "# The inputs correspond to the 40 offsets in the MNIST1D template.\n",
    "D_i = 40\n",
    "# The outputs correspond to the 10 digits\n",
    "D_o = 10\n",
    "\n",
    "\n",
    "# TODO Create a model with the following layers\n",
    "# 1. Convolutional layer, (input=length 40 and 1 channel, kernel size 3, stride 2, \n",
    "#    padding=\"valid\", 15 output channels )\n",
    "# 2. ReLU\n",
    "# 3. Convolutional layer, (input=length 19 and 15 channels, kernel size 3, stride 2, padding=\"valid\", 15 output channels )\n",
    "# 4. ReLU\n",
    "# 5. Convolutional layer, (input=length 9 and 15 channels, kernel size 3, stride 2, padding=\"valid\", 15 output channels)\n",
    "# 6. ReLU\n",
    "# 7. Flatten (converts 4x15) to length 60\n",
    "# 8. Linear layer (input size = 60, output size = 10)\n",
    "# References:\n",
    "# https://pytorch.org/docs/1.13/generated/torch.nn.Conv1d.html?highlight=conv1d#torch.nn.Conv1d\n",
    "# https://pytorch.org/docs/stable/generated/torch.nn.Flatten.html\n",
    "# https://pytorch.org/docs/1.13/generated/torch.nn.Linear.html?highlight=linear#torch.nn.Linear\n",
    "\n",
    "# NOTE THAT THE CONVOLUTIONAL LAYERS NEED TO TAKE THE NUMBER OF INPUT CHANNELS AS A PARAMETER\n",
    "# AND NOT THE INPUT SIZE.\n",
    "\n",
    "# Replace the following function:\n",
    "model = nn.Sequential(\n",
    "    nn.Conv1d(in_channels=1, out_channels=15, kernel_size=3, stride=2, padding=0),\n",
    "    nn.ReLU(),\n",
    "    nn.Conv1d(in_channels=15, out_channels=15, kernel_size=3, stride=2, padding=0),\n",
    "    nn.ReLU(),\n",
    "    nn.Conv1d(in_channels=15, out_channels=15, kernel_size=3, stride=2, padding=0),\n",
    "    nn.ReLU(),\n",
    "    nn.Flatten(),\n",
    "    nn.Linear(60, 10)  # Adjust input size to match the flattened size\n",
    ")\n",
    "\n",
    "\n"
   ]
  },
  {
   "cell_type": "code",
   "execution_count": 6,
   "metadata": {},
   "outputs": [
    {
     "name": "stdout",
     "output_type": "stream",
     "text": [
      "Sequential(\n",
      "  (0): Conv1d(1, 15, kernel_size=(3,), stride=(2,))\n",
      "  (1): ReLU()\n",
      "  (2): Conv1d(15, 15, kernel_size=(3,), stride=(2,))\n",
      "  (3): ReLU()\n",
      "  (4): Conv1d(15, 15, kernel_size=(3,), stride=(2,))\n",
      "  (5): ReLU()\n",
      "  (6): Flatten(start_dim=1, end_dim=-1)\n",
      "  (7): Linear(in_features=60, out_features=10, bias=True)\n",
      ")\n"
     ]
    }
   ],
   "source": [
    "print(model)"
   ]
  },
  {
   "cell_type": "code",
   "execution_count": 7,
   "metadata": {
    "id": "YgLaex1pfhqz"
   },
   "outputs": [],
   "source": [
    "# He initialization of weights\n",
    "def weights_init(layer_in):\n",
    "  if isinstance(layer_in, nn.Linear):\n",
    "    nn.init.kaiming_uniform_(layer_in.weight)\n",
    "    layer_in.bias.data.fill_(0.0)"
   ]
  },
  {
   "cell_type": "code",
   "execution_count": 8,
   "metadata": {
    "id": "NYw8I_3mmX5c"
   },
   "outputs": [
    {
     "name": "stdout",
     "output_type": "stream",
     "text": [
      "Epoch     0, train loss 1.924261, train error 76.30,  val loss 1.935148, percent error 78.38\n",
      "Epoch     1, train loss 1.647015, train error 67.53,  val loss 1.667073, percent error 68.38\n",
      "Epoch     2, train loss 1.413803, train error 58.50,  val loss 1.431373, percent error 58.47\n",
      "Epoch     3, train loss 1.270862, train error 52.33,  val loss 1.305434, percent error 53.88\n",
      "Epoch     4, train loss 1.233247, train error 53.10,  val loss 1.279932, percent error 53.58\n",
      "Epoch     5, train loss 1.272404, train error 50.88,  val loss 1.318562, percent error 53.72\n",
      "Epoch     6, train loss 1.041145, train error 42.15,  val loss 1.101995, percent error 42.95\n",
      "Epoch     7, train loss 1.041916, train error 41.00,  val loss 1.098253, percent error 43.42\n",
      "Epoch     8, train loss 1.005362, train error 39.12,  val loss 1.099332, percent error 42.30\n",
      "Epoch     9, train loss 0.794412, train error 31.35,  val loss 0.868168, percent error 34.00\n",
      "Epoch    10, train loss 0.680997, train error 26.85,  val loss 0.782136, percent error 30.57\n",
      "Epoch    11, train loss 0.594839, train error 22.88,  val loss 0.683013, percent error 26.55\n",
      "Epoch    12, train loss 0.549547, train error 21.38,  val loss 0.625577, percent error 23.80\n",
      "Epoch    13, train loss 0.465274, train error 18.72,  val loss 0.577391, percent error 22.22\n",
      "Epoch    14, train loss 0.465354, train error 18.78,  val loss 0.566625, percent error 21.95\n",
      "Epoch    15, train loss 0.472223, train error 18.28,  val loss 0.578884, percent error 20.75\n",
      "Epoch    16, train loss 0.405317, train error 16.05,  val loss 0.547751, percent error 20.38\n",
      "Epoch    17, train loss 0.411277, train error 16.57,  val loss 0.568884, percent error 20.97\n",
      "Epoch    18, train loss 0.311705, train error 11.75,  val loss 0.445039, percent error 17.25\n",
      "Epoch    19, train loss 0.291342, train error 11.03,  val loss 0.417623, percent error 15.75\n",
      "Epoch    20, train loss 0.278894, train error 10.47,  val loss 0.411037, percent error 15.78\n",
      "Epoch    21, train loss 0.267160, train error 10.90,  val loss 0.430754, percent error 15.45\n",
      "Epoch    22, train loss 0.239533, train error 8.95,  val loss 0.421039, percent error 15.18\n",
      "Epoch    23, train loss 0.235380, train error 9.45,  val loss 0.427339, percent error 15.68\n",
      "Epoch    24, train loss 0.224872, train error 8.53,  val loss 0.420649, percent error 14.55\n",
      "Epoch    25, train loss 0.218346, train error 8.35,  val loss 0.412347, percent error 14.85\n",
      "Epoch    26, train loss 0.210990, train error 7.75,  val loss 0.395164, percent error 13.43\n",
      "Epoch    27, train loss 0.184368, train error 6.43,  val loss 0.386367, percent error 13.62\n",
      "Epoch    28, train loss 0.190460, train error 7.50,  val loss 0.407616, percent error 13.88\n",
      "Epoch    29, train loss 0.166728, train error 5.90,  val loss 0.380506, percent error 13.30\n",
      "Epoch    30, train loss 0.173781, train error 6.43,  val loss 0.393520, percent error 12.97\n",
      "Epoch    31, train loss 0.174200, train error 6.53,  val loss 0.412609, percent error 13.68\n",
      "Epoch    32, train loss 0.155116, train error 5.60,  val loss 0.384564, percent error 13.00\n",
      "Epoch    33, train loss 0.150660, train error 5.65,  val loss 0.392354, percent error 12.53\n",
      "Epoch    34, train loss 0.151556, train error 5.50,  val loss 0.381004, percent error 12.97\n",
      "Epoch    35, train loss 0.133005, train error 4.47,  val loss 0.364976, percent error 12.07\n",
      "Epoch    36, train loss 0.137076, train error 4.90,  val loss 0.394895, percent error 12.88\n",
      "Epoch    37, train loss 0.140222, train error 5.15,  val loss 0.401026, percent error 12.95\n",
      "Epoch    38, train loss 0.132477, train error 4.78,  val loss 0.403778, percent error 12.72\n",
      "Epoch    39, train loss 0.130845, train error 4.65,  val loss 0.421798, percent error 12.50\n",
      "Epoch    40, train loss 0.106625, train error 3.28,  val loss 0.376059, percent error 11.65\n",
      "Epoch    41, train loss 0.103736, train error 3.38,  val loss 0.377285, percent error 11.38\n",
      "Epoch    42, train loss 0.095853, train error 2.82,  val loss 0.383211, percent error 11.45\n",
      "Epoch    43, train loss 0.093554, train error 2.80,  val loss 0.378647, percent error 11.62\n",
      "Epoch    44, train loss 0.091818, train error 3.05,  val loss 0.386548, percent error 11.43\n",
      "Epoch    45, train loss 0.094017, train error 2.90,  val loss 0.394413, percent error 11.40\n",
      "Epoch    46, train loss 0.094741, train error 2.97,  val loss 0.392988, percent error 11.90\n",
      "Epoch    47, train loss 0.085884, train error 2.60,  val loss 0.401625, percent error 11.35\n",
      "Epoch    48, train loss 0.092182, train error 2.80,  val loss 0.412602, percent error 11.43\n",
      "Epoch    49, train loss 0.080087, train error 2.20,  val loss 0.394829, percent error 11.28\n",
      "Epoch    50, train loss 0.082994, train error 2.47,  val loss 0.404606, percent error 11.50\n",
      "Epoch    51, train loss 0.085421, train error 2.60,  val loss 0.414420, percent error 12.15\n",
      "Epoch    52, train loss 0.080084, train error 2.25,  val loss 0.411592, percent error 11.65\n",
      "Epoch    53, train loss 0.076381, train error 2.07,  val loss 0.402958, percent error 11.50\n",
      "Epoch    54, train loss 0.093684, train error 2.93,  val loss 0.431323, percent error 11.93\n",
      "Epoch    55, train loss 0.075378, train error 2.10,  val loss 0.414954, percent error 11.82\n",
      "Epoch    56, train loss 0.071048, train error 1.90,  val loss 0.413725, percent error 11.47\n",
      "Epoch    57, train loss 0.083936, train error 2.72,  val loss 0.439948, percent error 11.53\n",
      "Epoch    58, train loss 0.078246, train error 2.32,  val loss 0.417795, percent error 11.10\n",
      "Epoch    59, train loss 0.068901, train error 1.78,  val loss 0.429392, percent error 11.35\n",
      "Epoch    60, train loss 0.060525, train error 1.55,  val loss 0.416259, percent error 10.88\n",
      "Epoch    61, train loss 0.062334, train error 1.68,  val loss 0.423917, percent error 11.20\n",
      "Epoch    62, train loss 0.060782, train error 1.38,  val loss 0.421753, percent error 11.12\n",
      "Epoch    63, train loss 0.062581, train error 1.72,  val loss 0.433268, percent error 11.22\n",
      "Epoch    64, train loss 0.057761, train error 1.30,  val loss 0.422051, percent error 10.95\n",
      "Epoch    65, train loss 0.059486, train error 1.57,  val loss 0.425968, percent error 11.10\n",
      "Epoch    66, train loss 0.058256, train error 1.40,  val loss 0.427500, percent error 11.10\n",
      "Epoch    67, train loss 0.054581, train error 1.22,  val loss 0.421785, percent error 10.80\n",
      "Epoch    68, train loss 0.057218, train error 1.28,  val loss 0.424973, percent error 10.90\n",
      "Epoch    69, train loss 0.055199, train error 1.35,  val loss 0.422047, percent error 10.70\n",
      "Epoch    70, train loss 0.052833, train error 1.07,  val loss 0.432947, percent error 11.05\n",
      "Epoch    71, train loss 0.053112, train error 1.05,  val loss 0.434503, percent error 11.07\n",
      "Epoch    72, train loss 0.052742, train error 1.12,  val loss 0.433678, percent error 11.05\n",
      "Epoch    73, train loss 0.051756, train error 0.97,  val loss 0.432790, percent error 11.12\n",
      "Epoch    74, train loss 0.051758, train error 1.15,  val loss 0.444513, percent error 11.12\n",
      "Epoch    75, train loss 0.050388, train error 1.05,  val loss 0.437052, percent error 10.90\n",
      "Epoch    76, train loss 0.050164, train error 1.00,  val loss 0.444730, percent error 11.10\n",
      "Epoch    77, train loss 0.049487, train error 1.05,  val loss 0.442274, percent error 11.10\n",
      "Epoch    78, train loss 0.050335, train error 1.03,  val loss 0.446559, percent error 11.15\n",
      "Epoch    79, train loss 0.050439, train error 1.12,  val loss 0.450159, percent error 11.00\n",
      "Epoch    80, train loss 0.047143, train error 0.75,  val loss 0.442794, percent error 10.80\n",
      "Epoch    81, train loss 0.046448, train error 0.70,  val loss 0.448139, percent error 11.05\n",
      "Epoch    82, train loss 0.046564, train error 0.85,  val loss 0.442131, percent error 10.80\n",
      "Epoch    83, train loss 0.046271, train error 0.80,  val loss 0.451157, percent error 11.12\n",
      "Epoch    84, train loss 0.047178, train error 0.90,  val loss 0.452491, percent error 11.20\n",
      "Epoch    85, train loss 0.046148, train error 0.80,  val loss 0.444896, percent error 10.85\n",
      "Epoch    86, train loss 0.045404, train error 0.70,  val loss 0.449467, percent error 10.90\n",
      "Epoch    87, train loss 0.047354, train error 0.97,  val loss 0.458627, percent error 11.05\n",
      "Epoch    88, train loss 0.044727, train error 0.72,  val loss 0.450352, percent error 11.00\n",
      "Epoch    89, train loss 0.044711, train error 0.72,  val loss 0.453556, percent error 11.12\n"
     ]
    },
    {
     "name": "stdout",
     "output_type": "stream",
     "text": [
      "Epoch    90, train loss 0.044406, train error 0.85,  val loss 0.454680, percent error 11.00\n",
      "Epoch    91, train loss 0.043840, train error 0.65,  val loss 0.454256, percent error 11.05\n",
      "Epoch    92, train loss 0.044375, train error 0.78,  val loss 0.452592, percent error 10.95\n",
      "Epoch    93, train loss 0.043546, train error 0.70,  val loss 0.455594, percent error 11.15\n",
      "Epoch    94, train loss 0.043936, train error 0.72,  val loss 0.456254, percent error 11.00\n",
      "Epoch    95, train loss 0.043002, train error 0.62,  val loss 0.454928, percent error 11.03\n",
      "Epoch    96, train loss 0.043249, train error 0.70,  val loss 0.458335, percent error 11.15\n",
      "Epoch    97, train loss 0.043134, train error 0.68,  val loss 0.462687, percent error 11.22\n",
      "Epoch    98, train loss 0.042525, train error 0.62,  val loss 0.459433, percent error 11.05\n",
      "Epoch    99, train loss 0.042167, train error 0.70,  val loss 0.458597, percent error 11.15\n"
     ]
    },
    {
     "data": {
      "image/png": "[encoded data removed]",
      "text/plain": [
       "<Figure size 640x480 with 1 Axes>"
      ]
     },
     "metadata": {},
     "output_type": "display_data"
    }
   ],
   "source": [
    "# choose cross entropy loss function (equation 5.24 in the loss notes)\n",
    "loss_function = nn.CrossEntropyLoss()\n",
    "# construct SGD optimizer and initialize learning rate and momentum\n",
    "optimizer = torch.optim.SGD(model.parameters(), lr = 0.05, momentum=0.9)\n",
    "# object that decreases learning rate by half every 20 epochs\n",
    "scheduler = StepLR(optimizer, step_size=20, gamma=0.5)\n",
    "# create 100 dummy data points and store in data loader class\n",
    "x_train = torch.tensor(train_data_x.transpose().astype('float32'))\n",
    "y_train = torch.tensor(train_data_y.astype('long'))\n",
    "x_val= torch.tensor(val_data_x.transpose().astype('float32'))\n",
    "y_val = torch.tensor(val_data_y.astype('long'))\n",
    "\n",
    "# load the data into a class that creates the batches\n",
    "data_loader = DataLoader(TensorDataset(x_train,y_train), batch_size=100, shuffle=True, worker_init_fn=np.random.seed(1))\n",
    "\n",
    "# Initialize model weights\n",
    "model.apply(weights_init)\n",
    "\n",
    "# loop over the dataset n_epoch times\n",
    "n_epoch = 100\n",
    "# store the loss and the % correct at each epoch\n",
    "losses_train = np.zeros((n_epoch))\n",
    "errors_train = np.zeros((n_epoch))\n",
    "losses_val = np.zeros((n_epoch))\n",
    "errors_val = np.zeros((n_epoch))\n",
    "\n",
    "for epoch in range(n_epoch):\n",
    "  # loop over batches\n",
    "  for i, data in enumerate(data_loader):\n",
    "    # retrieve inputs and labels for this batch\n",
    "    x_batch, y_batch = data\n",
    "    # zero the parameter gradients\n",
    "    optimizer.zero_grad()\n",
    "    # forward pass -- calculate model output\n",
    "    pred = model(x_batch[:,None,:])\n",
    "    # compute the loss\n",
    "    loss = loss_function(pred, y_batch)\n",
    "    # backward pass\n",
    "    loss.backward()\n",
    "    # SGD update\n",
    "    optimizer.step()\n",
    "\n",
    "  # Run whole dataset to get statistics -- normally wouldn't do this\n",
    "  pred_train = model(x_train[:,None,:])\n",
    "  pred_val = model(x_val[:,None,:])\n",
    "  _, predicted_train_class = torch.max(pred_train.data, 1)\n",
    "  _, predicted_val_class = torch.max(pred_val.data, 1)\n",
    "  errors_train[epoch] = 100 - 100 * (predicted_train_class == y_train).float().sum() / len(y_train)\n",
    "  errors_val[epoch]= 100 - 100 * (predicted_val_class == y_val).float().sum() / len(y_val)\n",
    "  losses_train[epoch] = loss_function(pred_train, y_train).item()\n",
    "  losses_val[epoch]= loss_function(pred_val, y_val).item()\n",
    "  print(f'Epoch {epoch:5d}, train loss {losses_train[epoch]:.6f}, train error {errors_train[epoch]:3.2f},  val loss {losses_val[epoch]:.6f}, percent error {errors_val[epoch]:3.2f}')\n",
    "\n",
    "  # tell scheduler to consider updating learning rate\n",
    "  scheduler.step()\n",
    "\n",
    "# Plot the results\n",
    "fig, ax = plt.subplots()\n",
    "ax.plot(errors_train,'r-',label='train')\n",
    "ax.plot(errors_val,'b-',label='validation')\n",
    "ax.set_ylim(0,100); ax.set_xlim(0,n_epoch)\n",
    "ax.set_xlabel('Epoch'); ax.set_ylabel('Error')\n",
    "ax.set_title('Part I: Validation Result %3.2f'%(errors_val[-1]))\n",
    "ax.legend()\n",
    "plt.show()"
   ]
  },
  {
   "cell_type": "code",
   "execution_count": null,
   "metadata": {},
   "outputs": [],
   "source": []
  }
 ],
 "metadata": {
  "colab": {
   "authorship_tag": "ABX9TyN1qtywBuyezaVMnc9MI7x2",
   "include_colab_link": true,
   "provenance": []
  },
  "kernelspec": {
   "display_name": "Python 3 (ipykernel)",
   "language": "python",
   "name": "python3"
  },
  "language_info": {
   "codemirror_mode": {
    "name": "ipython",
    "version": 3
   },
   "file_extension": ".py",
   "mimetype": "text/x-python",
   "name": "python",
   "nbconvert_exporter": "python",
   "pygments_lexer": "ipython3",
   "version": "3.11.4"
  }
 },
 "nbformat": 4,
 "nbformat_minor": 1
}
