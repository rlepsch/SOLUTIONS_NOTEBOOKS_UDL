{
 "cells": [
  {
   "cell_type": "markdown",
   "metadata": {
    "colab_type": "text",
    "id": "view-in-github"
   },
   "source": [
    "<a href=\"https://colab.research.google.com/github/udlbook/udlbook/blob/main/Notebooks/Chap10/10_5_Convolution_For_MNIST.ipynb\" target=\"_parent\"><img src=\"https://colab.research.google.com/assets/colab-badge.svg\" alt=\"Open In Colab\"/></a>"
   ]
  },
  {
   "cell_type": "markdown",
   "metadata": {
    "id": "t9vk9Elugvmi"
   },
   "source": [
    "# **Notebook 10.5: Convolution for MNIST**\n",
    "\n",
    "This notebook builds a proper network for 2D convolution.  It works with the MNIST dataset (figure 15.15a), which was the original classic dataset for classifying images.  The network will take a 28x28 grayscale image and classify it into one of 10 classes representing a digit.\n",
    "\n",
    "The code is adapted from https://nextjournal.com/gkoehler/pytorch-mnist\n",
    "\n",
    "Work through the cells below, running each cell in turn. In various places you will see the words \"TO DO\". Follow the instructions at these places and make predictions about what is going to happen or write code to complete the functions.\n",
    "\n",
    "Contact me at udlbookmail@gmail.com if you find any mistakes or have any suggestions.\n"
   ]
  },
  {
   "cell_type": "code",
   "execution_count": 1,
   "metadata": {
    "id": "YrXWAH7sUWvU"
   },
   "outputs": [],
   "source": [
    "import torch\n",
    "import torchvision\n",
    "import torch.nn as nn\n",
    "import torch.nn.functional as F\n",
    "import torch.optim as optim\n",
    "import matplotlib.pyplot as plt\n",
    "import random"
   ]
  },
  {
   "cell_type": "code",
   "execution_count": 4,
   "metadata": {
    "id": "wScBGXXFVadm"
   },
   "outputs": [
    {
     "name": "stdout",
     "output_type": "stream",
     "text": [
      "Downloading http://yann.lecun.com/exdb/mnist/train-images-idx3-ubyte.gz\n",
      "Downloading http://yann.lecun.com/exdb/mnist/train-images-idx3-ubyte.gz to ./files/MNIST/raw/train-images-idx3-ubyte.gz\n"
     ]
    },
    {
     "name": "stderr",
     "output_type": "stream",
     "text": [
      "100%|███████████████████████████| 9912422/9912422 [00:00<00:00, 23346753.15it/s]\n"
     ]
    },
    {
     "name": "stdout",
     "output_type": "stream",
     "text": [
      "Extracting ./files/MNIST/raw/train-images-idx3-ubyte.gz to ./files/MNIST/raw\n",
      "\n",
      "Downloading http://yann.lecun.com/exdb/mnist/train-labels-idx1-ubyte.gz\n",
      "Downloading http://yann.lecun.com/exdb/mnist/train-labels-idx1-ubyte.gz to ./files/MNIST/raw/train-labels-idx1-ubyte.gz\n"
     ]
    },
    {
     "name": "stderr",
     "output_type": "stream",
     "text": [
      "100%|███████████████████████████████| 28881/28881 [00:00<00:00, 25157984.18it/s]"
     ]
    },
    {
     "name": "stdout",
     "output_type": "stream",
     "text": [
      "Extracting ./files/MNIST/raw/train-labels-idx1-ubyte.gz to ./files/MNIST/raw\n",
      "\n",
      "Downloading http://yann.lecun.com/exdb/mnist/t10k-images-idx3-ubyte.gz\n"
     ]
    },
    {
     "name": "stderr",
     "output_type": "stream",
     "text": [
      "\n"
     ]
    },
    {
     "name": "stdout",
     "output_type": "stream",
     "text": [
      "Downloading http://yann.lecun.com/exdb/mnist/t10k-images-idx3-ubyte.gz to ./files/MNIST/raw/t10k-images-idx3-ubyte.gz\n"
     ]
    },
    {
     "name": "stderr",
     "output_type": "stream",
     "text": [
      "100%|████████████████████████████| 1648877/1648877 [00:00<00:00, 6100444.92it/s]\n"
     ]
    },
    {
     "name": "stdout",
     "output_type": "stream",
     "text": [
      "Extracting ./files/MNIST/raw/t10k-images-idx3-ubyte.gz to ./files/MNIST/raw\n",
      "\n",
      "Downloading http://yann.lecun.com/exdb/mnist/t10k-labels-idx1-ubyte.gz\n",
      "Downloading http://yann.lecun.com/exdb/mnist/t10k-labels-idx1-ubyte.gz to ./files/MNIST/raw/t10k-labels-idx1-ubyte.gz\n"
     ]
    },
    {
     "name": "stderr",
     "output_type": "stream",
     "text": [
      "100%|██████████████████████████████████| 4542/4542 [00:00<00:00, 4465665.44it/s]"
     ]
    },
    {
     "name": "stdout",
     "output_type": "stream",
     "text": [
      "Extracting ./files/MNIST/raw/t10k-labels-idx1-ubyte.gz to ./files/MNIST/raw\n",
      "\n"
     ]
    },
    {
     "name": "stderr",
     "output_type": "stream",
     "text": [
      "\n"
     ]
    }
   ],
   "source": [
    "# Run this once to load the train and test data straight into a dataloader class\n",
    "# that will provide the batches\n",
    "batch_size_train = 64\n",
    "batch_size_test = 1000\n",
    "train_loader = torch.utils.data.DataLoader(\n",
    "  torchvision.datasets.MNIST('./files/', train=True, download=True,\n",
    "                             transform=torchvision.transforms.Compose([\n",
    "                               torchvision.transforms.ToTensor(),\n",
    "                               torchvision.transforms.Normalize(\n",
    "                                 (0.1307,), (0.3081,))\n",
    "                             ])),\n",
    "  batch_size=batch_size_train, shuffle=True)\n",
    "\n",
    "test_loader = torch.utils.data.DataLoader(\n",
    "  torchvision.datasets.MNIST('./files/', train=False, download=True,\n",
    "                             transform=torchvision.transforms.Compose([\n",
    "                               torchvision.transforms.ToTensor(),\n",
    "                               torchvision.transforms.Normalize(\n",
    "                                 (0.1307,), (0.3081,))\n",
    "                             ])),\n",
    "  batch_size=batch_size_test, shuffle=True)"
   ]
  },
  {
   "cell_type": "code",
   "execution_count": 5,
   "metadata": {
    "id": "8bKADvLHbiV5"
   },
   "outputs": [
    {
     "data": {
      "image/png": "[encoded data removed]",
      "text/plain": [
       "<Figure size 640x480 with 6 Axes>"
      ]
     },
     "metadata": {},
     "output_type": "display_data"
    }
   ],
   "source": [
    "# Let's draw some of the training data\n",
    "examples = enumerate(test_loader)\n",
    "batch_idx, (example_data, example_targets) = next(examples)\n",
    "\n",
    "fig = plt.figure()\n",
    "for i in range(6):\n",
    "  plt.subplot(2,3,i+1)\n",
    "  plt.tight_layout()\n",
    "  plt.imshow(example_data[i][0], cmap='gray', interpolation='none')\n",
    "  plt.title(\"Ground Truth: {}\".format(example_targets[i]))\n",
    "  plt.xticks([])\n",
    "  plt.yticks([])\n",
    "plt.show()"
   ]
  },
  {
   "cell_type": "markdown",
   "metadata": {
    "id": "_sFvRDGrl4qe"
   },
   "source": [
    "Define the network.  This is a more typical way to define a network than the sequential structure.  We define a class for the network, and define the parameters in the constructor.  Then we use a function called forward to actually run the network.  It's easy to see how you might use residual connections in this format."
   ]
  },
  {
   "cell_type": "code",
   "execution_count": 6,
   "metadata": {
    "id": "EQkvw2KOPVl7"
   },
   "outputs": [],
   "source": [
    "from os import X_OK\n",
    "# TODO Change this class to implement\n",
    "# 1. A valid convolution with kernel size 5, 1 input channel and 10 output channels\n",
    "# 2. A max pooling operation over a 2x2 area\n",
    "# 3. A Relu\n",
    "# 4. A valid convolution with kernel size 5, 10 input channels and 20 output channels\n",
    "# 5. A 2D Dropout layer\n",
    "# 6. A max pooling operation over a 2x2 area\n",
    "# 7. A relu\n",
    "# 8. A flattening operation\n",
    "# 9. A fully connected layer mapping from (whatever dimensions we are at-- find out using .shape) to 50\n",
    "# 10. A ReLU\n",
    "# 11. A fully connected layer mapping from 50 to 10 dimensions\n",
    "# 12. A softmax function.\n",
    "\n",
    "# Replace this class which implements a minimal network (which still does okay)\n",
    "class Net(nn.Module):\n",
    "    def __init__(self):\n",
    "        super(Net, self).__init__()\n",
    "        # 1. Valid convolution, 1 channel in, 10 channels out, stride 1, kernel size = 5\n",
    "        self.conv1 = nn.Conv2d(1, 10, kernel_size=5)\n",
    "        # 2. Max pooling over a 2x2 area\n",
    "        self.pool1 = nn.MaxPool2d(2)\n",
    "        # 3. ReLU\n",
    "        self.relu1 = nn.ReLU()\n",
    "        # 4. Valid convolution, 10 channels in, 20 channels out, stride 1, kernel size = 5\n",
    "        self.conv2 = nn.Conv2d(10, 20, kernel_size=5)\n",
    "        # 5. 2D Dropout layer\n",
    "        self.drop = nn.Dropout2d()\n",
    "        # 6. Max pooling over a 2x2 area\n",
    "        self.pool2 = nn.MaxPool2d(2)\n",
    "        # 7. ReLU\n",
    "        self.relu2 = nn.ReLU()\n",
    "        # 8. Flattening operation\n",
    "        self.flatten = nn.Flatten()\n",
    "        # Calculate input size for fully connected layer\n",
    "        self.fc_input_size = 20 * 4 * 4  # Adjust the dimensions based on the output of the previous layers\n",
    "        # 9. Fully connected layer mapping to 50\n",
    "        self.fc1 = nn.Linear(self.fc_input_size, 50)\n",
    "        # 10. ReLU\n",
    "        self.relu3 = nn.ReLU()\n",
    "        # 11. Fully connected layer mapping to 10\n",
    "        self.fc2 = nn.Linear(50, 10)\n",
    "        # 12. Softmax\n",
    "        self.softmax = nn.Softmax(dim=1)\n",
    "\n",
    "    def forward(self, x):\n",
    "        x = self.conv1(x)\n",
    "        x = self.pool1(x)\n",
    "        x = self.relu1(x)\n",
    "        x = self.conv2(x)\n",
    "        x = self.drop(x)\n",
    "        x = self.pool2(x)\n",
    "        x = self.relu2(x)\n",
    "        x = self.flatten(x)\n",
    "        x = self.fc1(x)\n",
    "        x = self.relu3(x)\n",
    "        x = self.fc2(x)\n",
    "        x = self.softmax(x)\n",
    "        return x\n",
    "\n",
    "\n",
    "\n",
    "\n"
   ]
  },
  {
   "cell_type": "code",
   "execution_count": 7,
   "metadata": {
    "id": "qWZtkCZcU_dg"
   },
   "outputs": [],
   "source": [
    "# He initialization of weights\n",
    "def weights_init(layer_in):\n",
    "  if isinstance(layer_in, nn.Linear):\n",
    "    nn.init.kaiming_uniform_(layer_in.weight)\n",
    "    layer_in.bias.data.fill_(0.0)"
   ]
  },
  {
   "cell_type": "code",
   "execution_count": 8,
   "metadata": {
    "id": "FslroPJJffrh"
   },
   "outputs": [],
   "source": [
    "# Create network\n",
    "model = Net()\n",
    "# Initialize model weights\n",
    "model.apply(weights_init)\n",
    "# Define optimizer\n",
    "optimizer = optim.SGD(model.parameters(), lr=0.01, momentum=0.5)"
   ]
  },
  {
   "cell_type": "code",
   "execution_count": 9,
   "metadata": {
    "id": "xKQd9PzkQ766"
   },
   "outputs": [],
   "source": [
    "# Main training routine\n",
    "def train(epoch):\n",
    "  model.train()\n",
    "  # Get each\n",
    "  for batch_idx, (data, target) in enumerate(train_loader):\n",
    "    optimizer.zero_grad()\n",
    "    output = model(data)\n",
    "    loss = F.nll_loss(output, target)\n",
    "    loss.backward()\n",
    "    optimizer.step()\n",
    "    # Store results\n",
    "    if batch_idx % 10 == 0:\n",
    "      print('Train Epoch: {} [{}/{}]\\tLoss: {:.6f}'.format(\n",
    "        epoch, batch_idx * len(data), len(train_loader.dataset), loss.item()))"
   ]
  },
  {
   "cell_type": "code",
   "execution_count": 10,
   "metadata": {
    "id": "Byn-f7qWRLxX"
   },
   "outputs": [],
   "source": [
    "# Run on test data\n",
    "def test():\n",
    "  model.eval()\n",
    "  test_loss = 0\n",
    "  correct = 0\n",
    "  with torch.no_grad():\n",
    "    for data, target in test_loader:\n",
    "      output = model(data)\n",
    "      test_loss += F.nll_loss(output, target, size_average=False).item()\n",
    "      pred = output.data.max(1, keepdim=True)[1]\n",
    "      correct += pred.eq(target.data.view_as(pred)).sum()\n",
    "  test_loss /= len(test_loader.dataset)\n",
    "  print('\\nTest set: Avg. loss: {:.4f}, Accuracy: {}/{} ({:.0f}%)\\n'.format(\n",
    "    test_loss, correct, len(test_loader.dataset),\n",
    "    100. * correct / len(test_loader.dataset)))"
   ]
  },
  {
   "cell_type": "code",
   "execution_count": 11,
   "metadata": {
    "id": "YgLaex1pfhqz"
   },
   "outputs": [
    {
     "name": "stderr",
     "output_type": "stream",
     "text": [
      "/Users/reinaldolepsch/anaconda3/lib/python3.11/site-packages/torch/nn/_reduction.py:42: UserWarning: size_average and reduce args will be deprecated, please use reduction='sum' instead.\n",
      "  warnings.warn(warning.format(ret))\n"
     ]
    },
    {
     "name": "stdout",
     "output_type": "stream",
     "text": [
      "\n",
      "Test set: Avg. loss: -0.0990, Accuracy: 905/10000 (9%)\n",
      "\n",
      "Train Epoch: 1 [0/60000]\tLoss: -0.104140\n",
      "Train Epoch: 1 [640/60000]\tLoss: -0.102696\n",
      "Train Epoch: 1 [1280/60000]\tLoss: -0.110115\n",
      "Train Epoch: 1 [1920/60000]\tLoss: -0.126967\n",
      "Train Epoch: 1 [2560/60000]\tLoss: -0.102264\n",
      "Train Epoch: 1 [3200/60000]\tLoss: -0.131388\n",
      "Train Epoch: 1 [3840/60000]\tLoss: -0.149330\n",
      "Train Epoch: 1 [4480/60000]\tLoss: -0.115588\n",
      "Train Epoch: 1 [5120/60000]\tLoss: -0.138637\n",
      "Train Epoch: 1 [5760/60000]\tLoss: -0.131176\n",
      "Train Epoch: 1 [6400/60000]\tLoss: -0.143063\n",
      "Train Epoch: 1 [7040/60000]\tLoss: -0.146653\n",
      "Train Epoch: 1 [7680/60000]\tLoss: -0.174240\n",
      "Train Epoch: 1 [8320/60000]\tLoss: -0.205950\n",
      "Train Epoch: 1 [8960/60000]\tLoss: -0.191337\n",
      "Train Epoch: 1 [9600/60000]\tLoss: -0.140493\n",
      "Train Epoch: 1 [10240/60000]\tLoss: -0.164817\n",
      "Train Epoch: 1 [10880/60000]\tLoss: -0.183299\n",
      "Train Epoch: 1 [11520/60000]\tLoss: -0.194065\n",
      "Train Epoch: 1 [12160/60000]\tLoss: -0.207261\n",
      "Train Epoch: 1 [12800/60000]\tLoss: -0.276211\n",
      "Train Epoch: 1 [13440/60000]\tLoss: -0.265044\n",
      "Train Epoch: 1 [14080/60000]\tLoss: -0.332516\n",
      "Train Epoch: 1 [14720/60000]\tLoss: -0.358075\n",
      "Train Epoch: 1 [15360/60000]\tLoss: -0.381417\n",
      "Train Epoch: 1 [16000/60000]\tLoss: -0.284366\n",
      "Train Epoch: 1 [16640/60000]\tLoss: -0.354671\n",
      "Train Epoch: 1 [17280/60000]\tLoss: -0.266703\n",
      "Train Epoch: 1 [17920/60000]\tLoss: -0.418596\n",
      "Train Epoch: 1 [18560/60000]\tLoss: -0.342110\n",
      "Train Epoch: 1 [19200/60000]\tLoss: -0.359299\n",
      "Train Epoch: 1 [19840/60000]\tLoss: -0.485233\n",
      "Train Epoch: 1 [20480/60000]\tLoss: -0.347105\n",
      "Train Epoch: 1 [21120/60000]\tLoss: -0.354252\n",
      "Train Epoch: 1 [21760/60000]\tLoss: -0.395564\n",
      "Train Epoch: 1 [22400/60000]\tLoss: -0.519575\n",
      "Train Epoch: 1 [23040/60000]\tLoss: -0.470160\n",
      "Train Epoch: 1 [23680/60000]\tLoss: -0.510224\n",
      "Train Epoch: 1 [24320/60000]\tLoss: -0.433512\n",
      "Train Epoch: 1 [24960/60000]\tLoss: -0.426661\n",
      "Train Epoch: 1 [25600/60000]\tLoss: -0.469367\n",
      "Train Epoch: 1 [26240/60000]\tLoss: -0.562172\n",
      "Train Epoch: 1 [26880/60000]\tLoss: -0.538542\n",
      "Train Epoch: 1 [27520/60000]\tLoss: -0.345541\n",
      "Train Epoch: 1 [28160/60000]\tLoss: -0.515268\n",
      "Train Epoch: 1 [28800/60000]\tLoss: -0.439352\n",
      "Train Epoch: 1 [29440/60000]\tLoss: -0.485263\n",
      "Train Epoch: 1 [30080/60000]\tLoss: -0.534103\n",
      "Train Epoch: 1 [30720/60000]\tLoss: -0.568485\n",
      "Train Epoch: 1 [31360/60000]\tLoss: -0.558428\n",
      "Train Epoch: 1 [32000/60000]\tLoss: -0.549123\n",
      "Train Epoch: 1 [32640/60000]\tLoss: -0.570635\n",
      "Train Epoch: 1 [33280/60000]\tLoss: -0.537974\n",
      "Train Epoch: 1 [33920/60000]\tLoss: -0.575573\n",
      "Train Epoch: 1 [34560/60000]\tLoss: -0.594893\n",
      "Train Epoch: 1 [35200/60000]\tLoss: -0.513144\n",
      "Train Epoch: 1 [35840/60000]\tLoss: -0.630064\n",
      "Train Epoch: 1 [36480/60000]\tLoss: -0.573866\n",
      "Train Epoch: 1 [37120/60000]\tLoss: -0.504538\n",
      "Train Epoch: 1 [37760/60000]\tLoss: -0.657530\n",
      "Train Epoch: 1 [38400/60000]\tLoss: -0.663192\n",
      "Train Epoch: 1 [39040/60000]\tLoss: -0.511947\n",
      "Train Epoch: 1 [39680/60000]\tLoss: -0.562952\n",
      "Train Epoch: 1 [40320/60000]\tLoss: -0.615297\n",
      "Train Epoch: 1 [40960/60000]\tLoss: -0.493132\n",
      "Train Epoch: 1 [41600/60000]\tLoss: -0.671310\n",
      "Train Epoch: 1 [42240/60000]\tLoss: -0.594083\n",
      "Train Epoch: 1 [42880/60000]\tLoss: -0.536431\n",
      "Train Epoch: 1 [43520/60000]\tLoss: -0.635111\n",
      "Train Epoch: 1 [44160/60000]\tLoss: -0.580138\n",
      "Train Epoch: 1 [44800/60000]\tLoss: -0.706609\n",
      "Train Epoch: 1 [45440/60000]\tLoss: -0.554829\n",
      "Train Epoch: 1 [46080/60000]\tLoss: -0.551917\n",
      "Train Epoch: 1 [46720/60000]\tLoss: -0.582612\n",
      "Train Epoch: 1 [47360/60000]\tLoss: -0.568707\n",
      "Train Epoch: 1 [48000/60000]\tLoss: -0.675584\n",
      "Train Epoch: 1 [48640/60000]\tLoss: -0.554622\n",
      "Train Epoch: 1 [49280/60000]\tLoss: -0.549891\n",
      "Train Epoch: 1 [49920/60000]\tLoss: -0.556632\n",
      "Train Epoch: 1 [50560/60000]\tLoss: -0.542502\n",
      "Train Epoch: 1 [51200/60000]\tLoss: -0.660315\n",
      "Train Epoch: 1 [51840/60000]\tLoss: -0.667103\n",
      "Train Epoch: 1 [52480/60000]\tLoss: -0.625035\n",
      "Train Epoch: 1 [53120/60000]\tLoss: -0.718373\n",
      "Train Epoch: 1 [53760/60000]\tLoss: -0.601424\n",
      "Train Epoch: 1 [54400/60000]\tLoss: -0.535721\n",
      "Train Epoch: 1 [55040/60000]\tLoss: -0.584310\n",
      "Train Epoch: 1 [55680/60000]\tLoss: -0.645731\n",
      "Train Epoch: 1 [56320/60000]\tLoss: -0.552049\n",
      "Train Epoch: 1 [56960/60000]\tLoss: -0.619967\n",
      "Train Epoch: 1 [57600/60000]\tLoss: -0.674739\n",
      "Train Epoch: 1 [58240/60000]\tLoss: -0.586847\n",
      "Train Epoch: 1 [58880/60000]\tLoss: -0.700506\n",
      "Train Epoch: 1 [59520/60000]\tLoss: -0.580122\n",
      "\n",
      "Test set: Avg. loss: -0.6461, Accuracy: 6526/10000 (65%)\n",
      "\n",
      "Train Epoch: 2 [0/60000]\tLoss: -0.734203\n",
      "Train Epoch: 2 [640/60000]\tLoss: -0.663144\n",
      "Train Epoch: 2 [1280/60000]\tLoss: -0.640259\n",
      "Train Epoch: 2 [1920/60000]\tLoss: -0.542052\n",
      "Train Epoch: 2 [2560/60000]\tLoss: -0.565097\n",
      "Train Epoch: 2 [3200/60000]\tLoss: -0.570976\n",
      "Train Epoch: 2 [3840/60000]\tLoss: -0.629793\n",
      "Train Epoch: 2 [4480/60000]\tLoss: -0.779012\n",
      "Train Epoch: 2 [5120/60000]\tLoss: -0.633520\n",
      "Train Epoch: 2 [5760/60000]\tLoss: -0.556113\n",
      "Train Epoch: 2 [6400/60000]\tLoss: -0.678527\n",
      "Train Epoch: 2 [7040/60000]\tLoss: -0.763315\n",
      "Train Epoch: 2 [7680/60000]\tLoss: -0.631153\n",
      "Train Epoch: 2 [8320/60000]\tLoss: -0.514811\n",
      "Train Epoch: 2 [8960/60000]\tLoss: -0.566717\n",
      "Train Epoch: 2 [9600/60000]\tLoss: -0.681025\n",
      "Train Epoch: 2 [10240/60000]\tLoss: -0.593625\n",
      "Train Epoch: 2 [10880/60000]\tLoss: -0.531208\n",
      "Train Epoch: 2 [11520/60000]\tLoss: -0.637247\n",
      "Train Epoch: 2 [12160/60000]\tLoss: -0.555527\n",
      "Train Epoch: 2 [12800/60000]\tLoss: -0.663317\n",
      "Train Epoch: 2 [13440/60000]\tLoss: -0.624951\n",
      "Train Epoch: 2 [14080/60000]\tLoss: -0.692149\n",
      "Train Epoch: 2 [14720/60000]\tLoss: -0.583637\n",
      "Train Epoch: 2 [15360/60000]\tLoss: -0.630480\n",
      "Train Epoch: 2 [16000/60000]\tLoss: -0.589691\n",
      "Train Epoch: 2 [16640/60000]\tLoss: -0.551214\n",
      "Train Epoch: 2 [17280/60000]\tLoss: -0.731186\n",
      "Train Epoch: 2 [17920/60000]\tLoss: -0.591335\n",
      "Train Epoch: 2 [18560/60000]\tLoss: -0.685781\n",
      "Train Epoch: 2 [19200/60000]\tLoss: -0.613419\n",
      "Train Epoch: 2 [19840/60000]\tLoss: -0.590097\n",
      "Train Epoch: 2 [20480/60000]\tLoss: -0.630074\n",
      "Train Epoch: 2 [21120/60000]\tLoss: -0.641196\n",
      "Train Epoch: 2 [21760/60000]\tLoss: -0.537319\n",
      "Train Epoch: 2 [22400/60000]\tLoss: -0.682356\n",
      "Train Epoch: 2 [23040/60000]\tLoss: -0.601543\n",
      "Train Epoch: 2 [23680/60000]\tLoss: -0.625040\n",
      "Train Epoch: 2 [24320/60000]\tLoss: -0.577036\n",
      "Train Epoch: 2 [24960/60000]\tLoss: -0.587368\n",
      "Train Epoch: 2 [25600/60000]\tLoss: -0.678628\n",
      "Train Epoch: 2 [26240/60000]\tLoss: -0.646531\n",
      "Train Epoch: 2 [26880/60000]\tLoss: -0.650617\n",
      "Train Epoch: 2 [27520/60000]\tLoss: -0.523762\n",
      "Train Epoch: 2 [28160/60000]\tLoss: -0.582967\n",
      "Train Epoch: 2 [28800/60000]\tLoss: -0.633814\n",
      "Train Epoch: 2 [29440/60000]\tLoss: -0.554662\n",
      "Train Epoch: 2 [30080/60000]\tLoss: -0.623054\n",
      "Train Epoch: 2 [30720/60000]\tLoss: -0.702134\n",
      "Train Epoch: 2 [31360/60000]\tLoss: -0.595042\n",
      "Train Epoch: 2 [32000/60000]\tLoss: -0.603665\n",
      "Train Epoch: 2 [32640/60000]\tLoss: -0.611735\n",
      "Train Epoch: 2 [33280/60000]\tLoss: -0.641435\n",
      "Train Epoch: 2 [33920/60000]\tLoss: -0.528254\n",
      "Train Epoch: 2 [34560/60000]\tLoss: -0.664452\n",
      "Train Epoch: 2 [35200/60000]\tLoss: -0.630297\n",
      "Train Epoch: 2 [35840/60000]\tLoss: -0.685404\n",
      "Train Epoch: 2 [36480/60000]\tLoss: -0.645508\n",
      "Train Epoch: 2 [37120/60000]\tLoss: -0.607639\n",
      "Train Epoch: 2 [37760/60000]\tLoss: -0.613740\n",
      "Train Epoch: 2 [38400/60000]\tLoss: -0.637109\n",
      "Train Epoch: 2 [39040/60000]\tLoss: -0.671892\n",
      "Train Epoch: 2 [39680/60000]\tLoss: -0.675774\n",
      "Train Epoch: 2 [40320/60000]\tLoss: -0.716511\n",
      "Train Epoch: 2 [40960/60000]\tLoss: -0.692321\n",
      "Train Epoch: 2 [41600/60000]\tLoss: -0.535708\n",
      "Train Epoch: 2 [42240/60000]\tLoss: -0.688044\n",
      "Train Epoch: 2 [42880/60000]\tLoss: -0.719203\n",
      "Train Epoch: 2 [43520/60000]\tLoss: -0.690788\n",
      "Train Epoch: 2 [44160/60000]\tLoss: -0.705737\n",
      "Train Epoch: 2 [44800/60000]\tLoss: -0.666207\n",
      "Train Epoch: 2 [45440/60000]\tLoss: -0.655101\n",
      "Train Epoch: 2 [46080/60000]\tLoss: -0.697023\n",
      "Train Epoch: 2 [46720/60000]\tLoss: -0.703185\n",
      "Train Epoch: 2 [47360/60000]\tLoss: -0.718782\n",
      "Train Epoch: 2 [48000/60000]\tLoss: -0.659169\n",
      "Train Epoch: 2 [48640/60000]\tLoss: -0.737571\n",
      "Train Epoch: 2 [49280/60000]\tLoss: -0.648962\n",
      "Train Epoch: 2 [49920/60000]\tLoss: -0.691219\n",
      "Train Epoch: 2 [50560/60000]\tLoss: -0.727442\n",
      "Train Epoch: 2 [51200/60000]\tLoss: -0.609360\n",
      "Train Epoch: 2 [51840/60000]\tLoss: -0.684378\n",
      "Train Epoch: 2 [52480/60000]\tLoss: -0.634738\n",
      "Train Epoch: 2 [53120/60000]\tLoss: -0.664852\n",
      "Train Epoch: 2 [53760/60000]\tLoss: -0.651383\n",
      "Train Epoch: 2 [54400/60000]\tLoss: -0.760563\n",
      "Train Epoch: 2 [55040/60000]\tLoss: -0.588811\n"
     ]
    },
    {
     "name": "stdout",
     "output_type": "stream",
     "text": [
      "Train Epoch: 2 [55680/60000]\tLoss: -0.679561\n",
      "Train Epoch: 2 [56320/60000]\tLoss: -0.721802\n",
      "Train Epoch: 2 [56960/60000]\tLoss: -0.687472\n",
      "Train Epoch: 2 [57600/60000]\tLoss: -0.647894\n",
      "Train Epoch: 2 [58240/60000]\tLoss: -0.584664\n",
      "Train Epoch: 2 [58880/60000]\tLoss: -0.704339\n",
      "Train Epoch: 2 [59520/60000]\tLoss: -0.746877\n",
      "\n",
      "Test set: Avg. loss: -0.6611, Accuracy: 6649/10000 (66%)\n",
      "\n",
      "Train Epoch: 3 [0/60000]\tLoss: -0.692974\n",
      "Train Epoch: 3 [640/60000]\tLoss: -0.571218\n",
      "Train Epoch: 3 [1280/60000]\tLoss: -0.638354\n",
      "Train Epoch: 3 [1920/60000]\tLoss: -0.636426\n",
      "Train Epoch: 3 [2560/60000]\tLoss: -0.654743\n",
      "Train Epoch: 3 [3200/60000]\tLoss: -0.633695\n",
      "Train Epoch: 3 [3840/60000]\tLoss: -0.592265\n",
      "Train Epoch: 3 [4480/60000]\tLoss: -0.576770\n",
      "Train Epoch: 3 [5120/60000]\tLoss: -0.628529\n",
      "Train Epoch: 3 [5760/60000]\tLoss: -0.624453\n",
      "Train Epoch: 3 [6400/60000]\tLoss: -0.623659\n",
      "Train Epoch: 3 [7040/60000]\tLoss: -0.657053\n",
      "Train Epoch: 3 [7680/60000]\tLoss: -0.575190\n",
      "Train Epoch: 3 [8320/60000]\tLoss: -0.682970\n",
      "Train Epoch: 3 [8960/60000]\tLoss: -0.612696\n",
      "Train Epoch: 3 [9600/60000]\tLoss: -0.588359\n",
      "Train Epoch: 3 [10240/60000]\tLoss: -0.649516\n",
      "Train Epoch: 3 [10880/60000]\tLoss: -0.642963\n",
      "Train Epoch: 3 [11520/60000]\tLoss: -0.675297\n",
      "Train Epoch: 3 [12160/60000]\tLoss: -0.679195\n",
      "Train Epoch: 3 [12800/60000]\tLoss: -0.586001\n",
      "Train Epoch: 3 [13440/60000]\tLoss: -0.644931\n",
      "Train Epoch: 3 [14080/60000]\tLoss: -0.578473\n",
      "Train Epoch: 3 [14720/60000]\tLoss: -0.643571\n",
      "Train Epoch: 3 [15360/60000]\tLoss: -0.637655\n",
      "Train Epoch: 3 [16000/60000]\tLoss: -0.717426\n",
      "Train Epoch: 3 [16640/60000]\tLoss: -0.778049\n",
      "Train Epoch: 3 [17280/60000]\tLoss: -0.515395\n",
      "Train Epoch: 3 [17920/60000]\tLoss: -0.719216\n",
      "Train Epoch: 3 [18560/60000]\tLoss: -0.675299\n",
      "Train Epoch: 3 [19200/60000]\tLoss: -0.718365\n",
      "Train Epoch: 3 [19840/60000]\tLoss: -0.616941\n",
      "Train Epoch: 3 [20480/60000]\tLoss: -0.712251\n",
      "Train Epoch: 3 [21120/60000]\tLoss: -0.618573\n",
      "Train Epoch: 3 [21760/60000]\tLoss: -0.482663\n",
      "Train Epoch: 3 [22400/60000]\tLoss: -0.669638\n",
      "Train Epoch: 3 [23040/60000]\tLoss: -0.629309\n",
      "Train Epoch: 3 [23680/60000]\tLoss: -0.618141\n",
      "Train Epoch: 3 [24320/60000]\tLoss: -0.641243\n",
      "Train Epoch: 3 [24960/60000]\tLoss: -0.530158\n",
      "Train Epoch: 3 [25600/60000]\tLoss: -0.671251\n",
      "Train Epoch: 3 [26240/60000]\tLoss: -0.679318\n",
      "Train Epoch: 3 [26880/60000]\tLoss: -0.642099\n",
      "Train Epoch: 3 [27520/60000]\tLoss: -0.731292\n",
      "Train Epoch: 3 [28160/60000]\tLoss: -0.644030\n",
      "Train Epoch: 3 [28800/60000]\tLoss: -0.673662\n",
      "Train Epoch: 3 [29440/60000]\tLoss: -0.691155\n",
      "Train Epoch: 3 [30080/60000]\tLoss: -0.575211\n",
      "Train Epoch: 3 [30720/60000]\tLoss: -0.654106\n",
      "Train Epoch: 3 [31360/60000]\tLoss: -0.649999\n",
      "Train Epoch: 3 [32000/60000]\tLoss: -0.580909\n",
      "Train Epoch: 3 [32640/60000]\tLoss: -0.613562\n",
      "Train Epoch: 3 [33280/60000]\tLoss: -0.656428\n",
      "Train Epoch: 3 [33920/60000]\tLoss: -0.709002\n",
      "Train Epoch: 3 [34560/60000]\tLoss: -0.680194\n",
      "Train Epoch: 3 [35200/60000]\tLoss: -0.599575\n",
      "Train Epoch: 3 [35840/60000]\tLoss: -0.725696\n",
      "Train Epoch: 3 [36480/60000]\tLoss: -0.504565\n",
      "Train Epoch: 3 [37120/60000]\tLoss: -0.631767\n",
      "Train Epoch: 3 [37760/60000]\tLoss: -0.657649\n",
      "Train Epoch: 3 [38400/60000]\tLoss: -0.640374\n",
      "Train Epoch: 3 [39040/60000]\tLoss: -0.710022\n",
      "Train Epoch: 3 [39680/60000]\tLoss: -0.649652\n",
      "Train Epoch: 3 [40320/60000]\tLoss: -0.709384\n",
      "Train Epoch: 3 [40960/60000]\tLoss: -0.659692\n",
      "Train Epoch: 3 [41600/60000]\tLoss: -0.769150\n",
      "Train Epoch: 3 [42240/60000]\tLoss: -0.602283\n",
      "Train Epoch: 3 [42880/60000]\tLoss: -0.668022\n",
      "Train Epoch: 3 [43520/60000]\tLoss: -0.630959\n",
      "Train Epoch: 3 [44160/60000]\tLoss: -0.699787\n",
      "Train Epoch: 3 [44800/60000]\tLoss: -0.692671\n",
      "Train Epoch: 3 [45440/60000]\tLoss: -0.725079\n",
      "Train Epoch: 3 [46080/60000]\tLoss: -0.671853\n",
      "Train Epoch: 3 [46720/60000]\tLoss: -0.675633\n",
      "Train Epoch: 3 [47360/60000]\tLoss: -0.717808\n",
      "Train Epoch: 3 [48000/60000]\tLoss: -0.658263\n",
      "Train Epoch: 3 [48640/60000]\tLoss: -0.713989\n",
      "Train Epoch: 3 [49280/60000]\tLoss: -0.668945\n",
      "Train Epoch: 3 [49920/60000]\tLoss: -0.651140\n",
      "Train Epoch: 3 [50560/60000]\tLoss: -0.568390\n",
      "Train Epoch: 3 [51200/60000]\tLoss: -0.696499\n",
      "Train Epoch: 3 [51840/60000]\tLoss: -0.731250\n",
      "Train Epoch: 3 [52480/60000]\tLoss: -0.616537\n",
      "Train Epoch: 3 [53120/60000]\tLoss: -0.711628\n",
      "Train Epoch: 3 [53760/60000]\tLoss: -0.774104\n",
      "Train Epoch: 3 [54400/60000]\tLoss: -0.601802\n",
      "Train Epoch: 3 [55040/60000]\tLoss: -0.763101\n",
      "Train Epoch: 3 [55680/60000]\tLoss: -0.622170\n",
      "Train Epoch: 3 [56320/60000]\tLoss: -0.699598\n",
      "Train Epoch: 3 [56960/60000]\tLoss: -0.737567\n",
      "Train Epoch: 3 [57600/60000]\tLoss: -0.619307\n",
      "Train Epoch: 3 [58240/60000]\tLoss: -0.653959\n",
      "Train Epoch: 3 [58880/60000]\tLoss: -0.626992\n",
      "Train Epoch: 3 [59520/60000]\tLoss: -0.632496\n",
      "\n",
      "Test set: Avg. loss: -0.6711, Accuracy: 6729/10000 (67%)\n",
      "\n"
     ]
    }
   ],
   "source": [
    "# Get initial performance\n",
    "test()\n",
    "# Train for three epochs\n",
    "n_epochs = 3\n",
    "for epoch in range(1, n_epochs + 1):\n",
    "  train(epoch)\n",
    "  test()"
   ]
  },
  {
   "cell_type": "code",
   "execution_count": 12,
   "metadata": {
    "id": "o7fRUAy9Se1B"
   },
   "outputs": [
    {
     "data": {
      "image/png": "[encoded data removed]",
      "text/plain": [
       "<Figure size 640x480 with 10 Axes>"
      ]
     },
     "metadata": {},
     "output_type": "display_data"
    }
   ],
   "source": [
    "# Run network on data we got before and show predictions\n",
    "output = model(example_data)\n",
    "\n",
    "fig = plt.figure()\n",
    "for i in range(10):\n",
    "  plt.subplot(5,5,i+1)\n",
    "  plt.tight_layout()\n",
    "  plt.imshow(example_data[i][0], cmap='gray', interpolation='none')\n",
    "  plt.title(\"Prediction: {}\".format(\n",
    "    output.data.max(1, keepdim=True)[1][i].item()))\n",
    "  plt.xticks([])\n",
    "  plt.yticks([])\n",
    "plt.show()"
   ]
  },
  {
   "cell_type": "code",
   "execution_count": null,
   "metadata": {},
   "outputs": [],
   "source": []
  }
 ],
 "metadata": {
  "colab": {
   "authorship_tag": "ABX9TyNAcc98STMeyQgh9SbVHWG+",
   "include_colab_link": true,
   "provenance": []
  },
  "kernelspec": {
   "display_name": "Python 3 (ipykernel)",
   "language": "python",
   "name": "python3"
  },
  "language_info": {
   "codemirror_mode": {
    "name": "ipython",
    "version": 3
   },
   "file_extension": ".py",
   "mimetype": "text/x-python",
   "name": "python",
   "nbconvert_exporter": "python",
   "pygments_lexer": "ipython3",
   "version": "3.11.4"
  }
 },
 "nbformat": 4,
 "nbformat_minor": 1
}
