{
 "cells": [
  {
   "cell_type": "markdown",
   "metadata": {
    "id": "t9vk9Elugvmi"
   },
   "source": [
    "# **Notebook 13.4: Graph attention networks**\n",
    "\n",
    "This notebook builds a graph attention mechanism from scratch, as discussed in section 13.8.6 of the book and illustrated in figure 13.12c\n",
    "\n",
    "Work through the cells below, running each cell in turn. In various places you will see the words \"TO DO\". Follow the instructions at these places and make predictions about what is going to happen or write code to complete the functions.\n",
    "\n",
    "Contact me at udlbookmail@gmail.com if you find any mistakes or have any suggestions.\n",
    "\n"
   ]
  },
  {
   "cell_type": "code",
   "execution_count": 8,
   "metadata": {
    "id": "OLComQyvCIJ7"
   },
   "outputs": [],
   "source": [
    "import numpy as np\n",
    "import matplotlib.pyplot as plt"
   ]
  },
  {
   "cell_type": "markdown",
   "metadata": {
    "id": "9OJkkoNqCVK2"
   },
   "source": [
    "The self-attention mechanism maps $N$ inputs $\\mathbf{x}_{n}\\in\\mathbb{R}^{D}$ and returns $N$ outputs $\\mathbf{x}'_{n}\\in \\mathbb{R}^{D}$.  \n",
    "\n"
   ]
  },
  {
   "cell_type": "code",
   "execution_count": 9,
   "metadata": {
    "colab": {
     "base_uri": "https://localhost:8080/"
    },
    "id": "oAygJwLiCSri",
    "outputId": "5613c37f-9aff-40ad-f172-f5415863d21f"
   },
   "outputs": [
    {
     "name": "stdout",
     "output_type": "stream",
     "text": [
      "[[0 1 0 1 0 0 0 0]\n",
      " [1 0 1 1 1 0 0 0]\n",
      " [0 1 0 0 1 0 0 0]\n",
      " [1 1 0 0 1 0 0 0]\n",
      " [0 1 1 1 0 1 0 1]\n",
      " [0 0 0 0 1 0 1 1]\n",
      " [0 0 0 0 0 1 0 0]\n",
      " [0 0 0 0 1 1 0 0]]\n"
     ]
    }
   ],
   "source": [
    "# Set seed so we get the same random numbers\n",
    "np.random.seed(1)\n",
    "# Number of nodes in the graph\n",
    "N = 8\n",
    "# Number of dimensions of each input\n",
    "D = 4\n",
    "\n",
    "# Define a graph\n",
    "A = np.array([[0,1,0,1,0,0,0,0],\n",
    "              [1,0,1,1,1,0,0,0],\n",
    "              [0,1,0,0,1,0,0,0],\n",
    "              [1,1,0,0,1,0,0,0],\n",
    "              [0,1,1,1,0,1,0,1],\n",
    "              [0,0,0,0,1,0,1,1],\n",
    "              [0,0,0,0,0,1,0,0],\n",
    "              [0,0,0,0,1,1,0,0]]);\n",
    "print(A)\n",
    "\n",
    "# Let's also define some random data\n",
    "X = np.random.normal(size=(D,N))"
   ]
  },
  {
   "cell_type": "markdown",
   "metadata": {
    "id": "W2iHFbtKMaDp"
   },
   "source": [
    "We'll also need the weights and biases for the keys, queries, and values (equations 12.2 and 12.4)"
   ]
  },
  {
   "cell_type": "code",
   "execution_count": 10,
   "metadata": {
    "id": "79TSK7oLMobe"
   },
   "outputs": [],
   "source": [
    "# Choose random values for the parameters\n",
    "omega = np.random.normal(size=(D,D))\n",
    "beta = np.random.normal(size=(D,1))\n",
    "phi = np.random.normal(size=(1,2*D))"
   ]
  },
  {
   "cell_type": "markdown",
   "metadata": {
    "id": "iYPf6c4MhCgq"
   },
   "source": [
    "We'll need a softmax operation that operates on the columns of the matrix and a ReLU function as well"
   ]
  },
  {
   "cell_type": "code",
   "execution_count": 11,
   "metadata": {
    "id": "obaQBdUAMXXv"
   },
   "outputs": [],
   "source": [
    "# Define softmax operation that works independently on each column\n",
    "def softmax_cols(data_in):\n",
    "  # Exponentiate all of the values\n",
    "  exp_values = np.exp(data_in) ;\n",
    "  # Sum over columns\n",
    "  denom = np.sum(exp_values, axis = 0);\n",
    "  # Replicate denominator to N rows\n",
    "  denom = np.matmul(np.ones((data_in.shape[0],1)), denom[np.newaxis,:])\n",
    "  # Compute softmax\n",
    "  softmax = exp_values / denom\n",
    "  # return the answer\n",
    "  return softmax\n",
    "\n",
    "\n",
    "# Define the Rectified Linear Unit (ReLU) function\n",
    "def ReLU(preactivation):\n",
    "  activation = preactivation.clip(0.0)\n",
    "  return activation\n"
   ]
  },
  {
   "cell_type": "code",
   "execution_count": 12,
   "metadata": {
    "id": "gb2WvQ3SiH8r"
   },
   "outputs": [],
   "source": [
    " # Now let's compute self attention in matrix form\n",
    "def graph_attention(X,omega, beta, phi, A):\n",
    "\n",
    "  # TODO -- Write this function (see figure 13.12c)\n",
    "  # 1. Compute X_prime\n",
    "  # 2. Compute S\n",
    "  # 3. To apply the mask, set S to a very large negative number (e.g. -1e20) everywhere where A+I is zero\n",
    "  # 4. Run the softmax function to compute the attention values\n",
    "  # 5. Postmultiply X' by the attention values\n",
    "  # 6. Apply the ReLU function\n",
    "  # Replace this line:\n",
    "  output = np.ones_like(X) ;\n",
    "\n",
    "  # BEGIN_ANSWER\n",
    "  X_prime = beta * np.ones((1,N)) + omega @ X\n",
    "  S = np.zeros((N,N))\n",
    "  for c1 in range(N):\n",
    "    for c2 in range(N):\n",
    "      S[c1,c2] = ReLU(phi @ (np.vstack([X_prime[:,[c1]],X_prime[:,[c2]]])))\n",
    "\n",
    "  # print(S)\n",
    "  mask = (A+np.identity(N) !=1) * np.ones((N,N))\n",
    "  S = S - mask * S\n",
    "  S = S - mask * 1e20\n",
    "  attention = softmax_cols(S)\n",
    "  output = ReLU(X_prime @ attention)\n",
    "\n",
    "  # END_ANSWER\n",
    "  return output;"
   ]
  },
  {
   "cell_type": "code",
   "execution_count": 13,
   "metadata": {
    "colab": {
     "base_uri": "https://localhost:8080/"
    },
    "id": "d4p6HyHXmDh5",
    "outputId": "0bfe18fb-42cb-4af7-d639-0e7369f5ae65"
   },
   "outputs": [
    {
     "name": "stdout",
     "output_type": "stream",
     "text": [
      "Correct answer is:\n",
      "[[0.    0.028 0.37  0.    0.97  0.    0.    0.698]\n",
      " [0.    0.    0.    0.    1.184 0.    2.654 0.  ]\n",
      " [1.13  0.564 0.    1.298 0.268 0.    0.    0.779]\n",
      " [0.825 0.    0.    1.175 0.    0.    0.    0.  ]]]\n",
      "Your answer is:\n",
      "[[0.    0.028 0.37  0.    0.97  0.    0.    0.698]\n",
      " [0.    0.    0.    0.    1.184 0.    2.654 0.   ]\n",
      " [1.13  0.564 0.    1.298 0.268 0.    0.    0.779]\n",
      " [0.825 0.    0.    1.175 0.    0.    0.    0.   ]]\n"
     ]
    }
   ],
   "source": [
    "# Test out the graph attention mechanism\n",
    "np.set_printoptions(precision=3)\n",
    "output = graph_attention(X, omega, beta, phi, A);\n",
    "print(\"Correct answer is:\")\n",
    "print(\"[[0.    0.028 0.37  0.    0.97  0.    0.    0.698]\")\n",
    "print(\" [0.    0.    0.    0.    1.184 0.    2.654 0.  ]\")\n",
    "print(\" [1.13  0.564 0.    1.298 0.268 0.    0.    0.779]\")\n",
    "print(\" [0.825 0.    0.    1.175 0.    0.    0.    0.  ]]]\")\n",
    "\n",
    "\n",
    "print(\"Your answer is:\")\n",
    "print(output)"
   ]
  },
  {
   "cell_type": "markdown",
   "metadata": {
    "id": "QDEkIrcgrql-"
   },
   "source": [
    "TODO -- Try to construct a dot-product self-attention mechanism as in practical 12.1 that respects the geometry of the graph and has zero attention between non-neighboring nodes by combining figures 13.12a and 13.12b.\n",
    "\n",
    "ANSWER: The self-attention mechanisms works as normal but we set all values of the pre-softmax attention to 1e-20 where A+I is zero.\n"
   ]
  }
 ],
 "metadata": {
  "colab": {
   "provenance": []
  },
  "kernelspec": {
   "display_name": "Python 3 (ipykernel)",
   "language": "python",
   "name": "python3"
  },
  "language_info": {
   "codemirror_mode": {
    "name": "ipython",
    "version": 3
   },
   "file_extension": ".py",
   "mimetype": "text/x-python",
   "name": "python",
   "nbconvert_exporter": "python",
   "pygments_lexer": "ipython3",
   "version": "3.11.4"
  }
 },
 "nbformat": 4,
 "nbformat_minor": 1
}
