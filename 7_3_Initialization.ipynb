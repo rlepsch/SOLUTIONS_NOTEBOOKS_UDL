{
 "cells": [
  {
   "cell_type": "markdown",
   "metadata": {
    "colab_type": "text",
    "id": "view-in-github"
   },
   "source": [
    "<a href=\"https://colab.research.google.com/github/udlbook/udlbook/blob/main/Notebooks/Chap07/7_3_Initialization.ipynb\" target=\"_parent\"><img src=\"https://colab.research.google.com/assets/colab-badge.svg\" alt=\"Open In Colab\"/></a>"
   ]
  },
  {
   "cell_type": "markdown",
   "metadata": {
    "id": "L6chybAVFJW2"
   },
   "source": [
    "# **Notebook 7.3: Initialization**\n",
    "\n",
    "This notebook explores weight initialization in deep neural networks as described in section 7.5 of the book.\n",
    "\n",
    "Work through the cells below, running each cell in turn. In various places you will see the words \"TO DO\". Follow the instructions at these places and make predictions about what is going to happen or write code to complete the functions.\n",
    "\n",
    "Contact me at udlbookmail@gmail.com if you find any mistakes or have any suggestions."
   ]
  },
  {
   "cell_type": "code",
   "execution_count": 18,
   "metadata": {
    "id": "LdIDglk1FFcG"
   },
   "outputs": [],
   "source": [
    "import numpy as np\n",
    "import matplotlib.pyplot as plt"
   ]
  },
  {
   "cell_type": "markdown",
   "metadata": {
    "id": "nnUoI0m6GyjC"
   },
   "source": [
    "First let's define a neural network.  We'll just choose the weights and biases randomly for now"
   ]
  },
  {
   "cell_type": "code",
   "execution_count": 19,
   "metadata": {
    "id": "WVM4Tc_jGI0Q"
   },
   "outputs": [],
   "source": [
    "def init_params(K, D, sigma_sq_omega):\n",
    "  # Set seed so we always get the same random numbers\n",
    "  np.random.seed(0)\n",
    "\n",
    "  # Input layer\n",
    "  D_i = 1\n",
    "  # Output layer\n",
    "  D_o = 1\n",
    "\n",
    "  # Make empty lists\n",
    "  all_weights = [None] * (K+1)\n",
    "  all_biases = [None] * (K+1)\n",
    "\n",
    "  # Create input and output layers\n",
    "  all_weights[0] = np.random.normal(size=(D, D_i))*np.sqrt(sigma_sq_omega)\n",
    "  all_weights[-1] = np.random.normal(size=(D_o, D)) * np.sqrt(sigma_sq_omega)\n",
    "  all_biases[0] = np.zeros((D,1))\n",
    "  all_biases[-1]= np.zeros((D_o,1))\n",
    "\n",
    "  # Create intermediate layers\n",
    "  for layer in range(1,K):\n",
    "    all_weights[layer] = np.random.normal(size=(D,D))*np.sqrt(sigma_sq_omega)\n",
    "    all_biases[layer] = np.zeros((D,1))\n",
    "\n",
    "  return all_weights, all_biases"
   ]
  },
  {
   "cell_type": "code",
   "execution_count": 20,
   "metadata": {
    "id": "jZh-7bPXIDq4"
   },
   "outputs": [],
   "source": [
    "# Define the Rectified Linear Unit (ReLU) function\n",
    "def ReLU(preactivation):\n",
    "  activation = preactivation.clip(0.0)\n",
    "  return activation"
   ]
  },
  {
   "cell_type": "code",
   "execution_count": 21,
   "metadata": {
    "id": "LgquJUJvJPaN"
   },
   "outputs": [],
   "source": [
    "def compute_network_output(net_input, all_weights, all_biases):\n",
    "\n",
    "  # Retrieve number of layers\n",
    "  K = len(all_weights) -1\n",
    "\n",
    "  # We'll store the pre-activations at each layer in a list \"all_f\"\n",
    "  # and the activations in a second list[all_h].\n",
    "  all_f = [None] * (K+1)\n",
    "  all_h = [None] * (K+1)\n",
    "\n",
    "  #For convenience, we'll set\n",
    "  # all_h[0] to be the input, and all_f[K] will be the output\n",
    "  all_h[0] = net_input\n",
    "\n",
    "  # Run through the layers, calculating all_f[0...K-1] and all_h[1...K]\n",
    "  for layer in range(K):\n",
    "      # Update preactivations and activations at this layer according to eqn 7.5\n",
    "      all_f[layer] = all_biases[layer] + np.matmul(all_weights[layer], all_h[layer])\n",
    "      all_h[layer+1] = ReLU(all_f[layer])\n",
    "\n",
    "  # Compute the output from the last hidden layer\n",
    "  all_f[K] = all_biases[K] + np.matmul(all_weights[K], all_h[K])\n",
    "\n",
    "  # Retrieve the output\n",
    "  net_output = all_f[K]\n",
    "\n",
    "  return net_output, all_f, all_h"
   ]
  },
  {
   "cell_type": "markdown",
   "metadata": {
    "id": "bIUrcXnOqChl"
   },
   "source": [
    "Now let's investigate how this the size of the outputs vary as we change the initialization variance:\n"
   ]
  },
  {
   "cell_type": "code",
   "execution_count": 22,
   "metadata": {
    "id": "A55z3rKBqO7M"
   },
   "outputs": [
    {
     "name": "stdout",
     "output_type": "stream",
     "text": [
      "Layer 0, std of hidden units = 0.981\n",
      "Layer 1, std of hidden units = 0.811\n",
      "Layer 2, std of hidden units = 1.472\n",
      "Layer 3, std of hidden units = 4.547\n",
      "Layer 4, std of hidden units = 8.896\n"
     ]
    }
   ],
   "source": [
    "# Number of layers\n",
    "K = 5\n",
    "# Number of neurons per layer\n",
    "D = 8\n",
    "  # Input layer\n",
    "D_i = 1\n",
    "# Output layer\n",
    "D_o = 1\n",
    "# Set variance of initial weights to 1\n",
    "sigma_sq_omega = 1.0\n",
    "# Initialize parameters\n",
    "all_weights, all_biases = init_params(K,D,sigma_sq_omega)\n",
    "\n",
    "n_data = 1000\n",
    "data_in = np.random.normal(size=(1,n_data))\n",
    "net_output, all_f, all_h = compute_network_output(data_in, all_weights, all_biases)\n",
    "\n",
    "for layer in range(K):\n",
    "  print(\"Layer %d, std of hidden units = %3.3f\"%(layer, np.std(all_h[layer])))"
   ]
  },
  {
   "cell_type": "code",
   "execution_count": 23,
   "metadata": {
    "id": "VL_SO4tar3DC"
   },
   "outputs": [],
   "source": [
    "# You can see that the values of the hidden units are increasing on average \n",
    "# (the variance is across all hidden units at the layer\n",
    "# and the 1000 training examples\n",
    "\n",
    "# TO DO\n",
    "# Change this to 50 layers with 80 hidden units per layer"
   ]
  },
  {
   "cell_type": "code",
   "execution_count": 24,
   "metadata": {},
   "outputs": [
    {
     "name": "stdout",
     "output_type": "stream",
     "text": [
      "Layer 0, std of hidden units = 0.981\n",
      "Layer 1, std of hidden units = 0.622\n",
      "Layer 2, std of hidden units = 3.108\n",
      "Layer 3, std of hidden units = 21.075\n",
      "Layer 4, std of hidden units = 161.638\n",
      "Layer 5, std of hidden units = 1125.582\n",
      "Layer 6, std of hidden units = 6319.072\n",
      "Layer 7, std of hidden units = 37275.665\n",
      "Layer 8, std of hidden units = 243387.814\n",
      "Layer 9, std of hidden units = 1339835.231\n",
      "Layer 10, std of hidden units = 7366234.399\n",
      "Layer 11, std of hidden units = 49006173.785\n",
      "Layer 12, std of hidden units = 272845366.658\n",
      "Layer 13, std of hidden units = 1682043584.115\n",
      "Layer 14, std of hidden units = 10666632256.715\n",
      "Layer 15, std of hidden units = 66098343304.232\n",
      "Layer 16, std of hidden units = 429669007251.536\n",
      "Layer 17, std of hidden units = 2889209957356.916\n",
      "Layer 18, std of hidden units = 19621779417283.500\n",
      "Layer 19, std of hidden units = 121787762396578.969\n",
      "Layer 20, std of hidden units = 999886829483868.875\n",
      "Layer 21, std of hidden units = 5334411928004678.000\n",
      "Layer 22, std of hidden units = 33827620837739412.000\n",
      "Layer 23, std of hidden units = 225444894681278176.000\n",
      "Layer 24, std of hidden units = 1627820610460267776.000\n",
      "Layer 25, std of hidden units = 11267764649765797888.000\n",
      "Layer 26, std of hidden units = 67624804921841573888.000\n",
      "Layer 27, std of hidden units = 364972590784171016192.000\n",
      "Layer 28, std of hidden units = 2240665662851632070656.000\n",
      "Layer 29, std of hidden units = 17591855121671590510592.000\n",
      "Layer 30, std of hidden units = 127571735900692099891200.000\n",
      "Layer 31, std of hidden units = 673191222755367401291776.000\n",
      "Layer 32, std of hidden units = 3013965906952738308096000.000\n",
      "Layer 33, std of hidden units = 18058080219374336341966848.000\n",
      "Layer 34, std of hidden units = 113844343088523883136942080.000\n",
      "Layer 35, std of hidden units = 743768651021983614777688064.000\n",
      "Layer 36, std of hidden units = 4212183983909333470149607424.000\n",
      "Layer 37, std of hidden units = 29165435896872114952769372160.000\n",
      "Layer 38, std of hidden units = 158335947919997755737983942656.000\n",
      "Layer 39, std of hidden units = 997715185910698111272413560832.000\n",
      "Layer 40, std of hidden units = 6426783972194130038049969537024.000\n",
      "Layer 41, std of hidden units = 43768309206637147921539531800576.000\n",
      "Layer 42, std of hidden units = 303487129329508515187544136089600.000\n",
      "Layer 43, std of hidden units = 1776138313453572474864744603320320.000\n",
      "Layer 44, std of hidden units = 11908465022449954960409252809670656.000\n",
      "Layer 45, std of hidden units = 89231570537681377058251182172012544.000\n",
      "Layer 46, std of hidden units = 537142295281509613087075230529093632.000\n",
      "Layer 47, std of hidden units = 3598219068834594188168289796459855872.000\n",
      "Layer 48, std of hidden units = 19195733181303615269323687454815813632.000\n",
      "Layer 49, std of hidden units = 112209168636519545406961012606813339648.000\n"
     ]
    }
   ],
   "source": [
    "# Number of layers\n",
    "K = 50\n",
    "# Number of neurons per layer\n",
    "D = 80\n",
    "  # Input layer\n",
    "D_i = 1\n",
    "# Output layer\n",
    "D_o = 1\n",
    "# Set variance of initial weights to 1\n",
    "sigma_sq_omega = 1.0\n",
    "# Initialize parameters\n",
    "all_weights, all_biases = init_params(K,D,sigma_sq_omega)\n",
    "\n",
    "n_data = 1000\n",
    "data_in = np.random.normal(size=(1,n_data))\n",
    "net_output, all_f, all_h = compute_network_output(data_in, all_weights, all_biases)\n",
    "\n",
    "for layer in range(K):\n",
    "  print(\"Layer %d, std of hidden units = %3.3f\"%(layer, np.std(all_h[layer])))"
   ]
  },
  {
   "cell_type": "code",
   "execution_count": 25,
   "metadata": {
    "id": "VL_SO4tar3DC"
   },
   "outputs": [],
   "source": [
    "# TO DO\n",
    "# Now experiment with sigma_sq_omega to try to stop the variance of the forward computation explode"
   ]
  },
  {
   "cell_type": "code",
   "execution_count": 26,
   "metadata": {},
   "outputs": [
    {
     "name": "stdout",
     "output_type": "stream",
     "text": [
      "Layer 0, std of hidden units = 0.981\n",
      "Layer 1, std of hidden units = 0.098\n",
      "Layer 2, std of hidden units = 0.078\n",
      "Layer 3, std of hidden units = 0.083\n",
      "Layer 4, std of hidden units = 0.101\n",
      "Layer 5, std of hidden units = 0.111\n",
      "Layer 6, std of hidden units = 0.099\n",
      "Layer 7, std of hidden units = 0.092\n",
      "Layer 8, std of hidden units = 0.095\n",
      "Layer 9, std of hidden units = 0.083\n",
      "Layer 10, std of hidden units = 0.072\n",
      "Layer 11, std of hidden units = 0.076\n",
      "Layer 12, std of hidden units = 0.067\n",
      "Layer 13, std of hidden units = 0.065\n",
      "Layer 14, std of hidden units = 0.065\n",
      "Layer 15, std of hidden units = 0.064\n",
      "Layer 16, std of hidden units = 0.066\n",
      "Layer 17, std of hidden units = 0.070\n",
      "Layer 18, std of hidden units = 0.075\n",
      "Layer 19, std of hidden units = 0.073\n",
      "Layer 20, std of hidden units = 0.095\n",
      "Layer 21, std of hidden units = 0.080\n",
      "Layer 22, std of hidden units = 0.081\n",
      "Layer 23, std of hidden units = 0.085\n",
      "Layer 24, std of hidden units = 0.097\n",
      "Layer 25, std of hidden units = 0.106\n",
      "Layer 26, std of hidden units = 0.101\n",
      "Layer 27, std of hidden units = 0.086\n",
      "Layer 28, std of hidden units = 0.083\n",
      "Layer 29, std of hidden units = 0.104\n",
      "Layer 30, std of hidden units = 0.119\n",
      "Layer 31, std of hidden units = 0.099\n",
      "Layer 32, std of hidden units = 0.070\n",
      "Layer 33, std of hidden units = 0.066\n",
      "Layer 34, std of hidden units = 0.066\n",
      "Layer 35, std of hidden units = 0.068\n",
      "Layer 36, std of hidden units = 0.061\n",
      "Layer 37, std of hidden units = 0.067\n",
      "Layer 38, std of hidden units = 0.058\n",
      "Layer 39, std of hidden units = 0.057\n",
      "Layer 40, std of hidden units = 0.058\n",
      "Layer 41, std of hidden units = 0.063\n",
      "Layer 42, std of hidden units = 0.069\n",
      "Layer 43, std of hidden units = 0.064\n",
      "Layer 44, std of hidden units = 0.068\n",
      "Layer 45, std of hidden units = 0.080\n",
      "Layer 46, std of hidden units = 0.076\n",
      "Layer 47, std of hidden units = 0.081\n",
      "Layer 48, std of hidden units = 0.068\n",
      "Layer 49, std of hidden units = 0.063\n"
     ]
    }
   ],
   "source": [
    "# Number of layers\n",
    "K = 50\n",
    "# Number of neurons per layer\n",
    "D = 80\n",
    "  # Input layer\n",
    "D_i = 1\n",
    "# Output layer\n",
    "D_o = 1\n",
    "# Set variance of initial weights to 1\n",
    "sigma_sq_omega = 0.025\n",
    "# Initialize parameters\n",
    "all_weights, all_biases = init_params(K,D,sigma_sq_omega)\n",
    "\n",
    "n_data = 1000\n",
    "data_in = np.random.normal(size=(1,n_data))\n",
    "net_output, all_f, all_h = compute_network_output(data_in, all_weights, all_biases)\n",
    "\n",
    "for layer in range(K):\n",
    "  print(\"Layer %d, std of hidden units = %3.3f\"%(layer, np.std(all_h[layer])))"
   ]
  },
  {
   "cell_type": "markdown",
   "metadata": {
    "id": "SxVTKp3IcoBF"
   },
   "source": [
    "Now let's define a loss function.  We'll just use the least squares loss function. We'll also write a function to compute dloss_doutput\n"
   ]
  },
  {
   "cell_type": "code",
   "execution_count": 27,
   "metadata": {
    "id": "6XqWSYWJdhQR"
   },
   "outputs": [],
   "source": [
    "def least_squares_loss(net_output, y):\n",
    "  return np.sum((net_output-y) * (net_output-y))\n",
    "\n",
    "def d_loss_d_output(net_output, y):\n",
    "    return 2*(net_output -y);"
   ]
  },
  {
   "cell_type": "markdown",
   "metadata": {
    "id": "98WmyqFYWA-0"
   },
   "source": [
    "Here's the code for the backward pass"
   ]
  },
  {
   "cell_type": "code",
   "execution_count": 29,
   "metadata": {
    "id": "LJng7WpRPLMz"
   },
   "outputs": [],
   "source": [
    "# We'll need the indicator function\n",
    "def indicator_function(x):\n",
    "  x_in = np.array(x)\n",
    "  x_in[x_in>=0] = 1\n",
    "  x_in[x_in<0] = 0\n",
    "  return x_in"
   ]
  },
  {
   "cell_type": "code",
   "execution_count": 30,
   "metadata": {
    "id": "LJng7WpRPLMz"
   },
   "outputs": [],
   "source": [
    "# Main backward pass routine\n",
    "def backward_pass(all_weights, all_biases, all_f, all_h, y):\n",
    "  # We'll store the derivatives dl_dweights and dl_dbiases in lists as well\n",
    "  all_dl_dweights = [None] * (K+1)\n",
    "  all_dl_dbiases = [None] * (K+1)\n",
    "  # And we'll store the derivatives of the loss with respect to the activation and preactivations in lists\n",
    "  all_dl_df = [None] * (K+1)\n",
    "  all_dl_dh = [None] * (K+1)\n",
    "  # Again for convenience we'll stick with the convention that all_h[0] is the net input and all_f[k] in the net output\n",
    "\n",
    "  # Compute derivatives of net output with respect to loss\n",
    "  all_dl_df[K] = np.array(d_loss_d_output(all_f[K],y))\n",
    "\n",
    "  # Now work backwards through the network\n",
    "  for layer in range(K,-1,-1):\n",
    "    # Calculate the derivatives of biases at layer from all_dl_df[K]. (eq 7.13, line 1)\n",
    "    all_dl_dbiases[layer] = np.array(all_dl_df[layer])\n",
    "    # Calculate the derivatives of weight at layer from all_dl_df[K] and all_h[K] (eq 7.13, line 2)\n",
    "    all_dl_dweights[layer] = np.matmul(all_dl_df[layer], all_h[layer].transpose())\n",
    "\n",
    "    # Calculate the derivatives of activations from weight and derivatives of next preactivations (eq 7.13, line 3 second part)\n",
    "    all_dl_dh[layer] = np.matmul(all_weights[layer].transpose(), all_dl_df[layer])\n",
    "    # Calculate the derivatives of the pre-activation f with respect to activation h (eq 7.13, line 3, first part)\n",
    "    if layer > 0:\n",
    "      all_dl_df[layer-1] = indicator_function(all_f[layer-1]) * all_dl_dh[layer]\n",
    "\n",
    "  return all_dl_dweights, all_dl_dbiases, all_dl_dh, all_dl_df"
   ]
  },
  {
   "cell_type": "markdown",
   "metadata": {
    "id": "phFnbthqwhFi"
   },
   "source": [
    "Now let's look at what happens to the magnitude of the gradients on the way back."
   ]
  },
  {
   "cell_type": "code",
   "execution_count": 31,
   "metadata": {
    "id": "9A9MHc4sQvbp"
   },
   "outputs": [
    {
     "name": "stdout",
     "output_type": "stream",
     "text": [
      "Layer 1, std of dl_dh = 446.654\n",
      "Layer 2, std of dl_dh = 340.657\n",
      "Layer 3, std of dl_dh = 109.132\n",
      "Layer 4, std of dl_dh = 56.472\n"
     ]
    }
   ],
   "source": [
    "# Number of layers\n",
    "K = 5\n",
    "# Number of neurons per layer\n",
    "D = 8\n",
    "  # Input layer\n",
    "D_i = 1\n",
    "# Output layer\n",
    "D_o = 1\n",
    "# Set variance of initial weights to 1\n",
    "sigma_sq_omega = 1.0\n",
    "# Initialize parameters\n",
    "all_weights, all_biases = init_params(K,D,sigma_sq_omega)\n",
    "\n",
    "# For simplicity we'll just consider the gradients of the weights and biases between the first and last hidden layer\n",
    "n_data = 100\n",
    "aggregate_dl_df = [None] * (K+1)\n",
    "for layer in range(1,K):\n",
    "  # These 3D arrays will store the gradients for every data point\n",
    "  aggregate_dl_df[layer] = np.zeros((D,n_data))\n",
    "\n",
    "\n",
    "# We'll have to compute the derivatives of the parameters for each data point separately\n",
    "for c_data in range(n_data):\n",
    "  data_in = np.random.normal(size=(1,1))\n",
    "  y = np.zeros((1,1))\n",
    "  net_output, all_f, all_h = compute_network_output(data_in, all_weights, all_biases)\n",
    "  all_dl_dweights, all_dl_dbiases, all_dl_dh, all_dl_df = backward_pass(all_weights, all_biases, all_f, all_h, y)\n",
    "  for layer in range(1,K):\n",
    "    aggregate_dl_df[layer][:,c_data] = np.squeeze(all_dl_df[layer])\n",
    "\n",
    "for layer in range(1,K):\n",
    "  print(\"Layer %d, std of dl_dh = %3.3f\"%(layer, np.std(aggregate_dl_df[layer].ravel())))\n"
   ]
  },
  {
   "cell_type": "code",
   "execution_count": null,
   "metadata": {
    "id": "gtokc0VX0839"
   },
   "outputs": [],
   "source": [
    "# You can see that the values of the hidden units are increasing on average \n",
    "# (the variance is across all hidden units at the layer\n",
    "# and the 1000 training examples\n",
    "\n",
    "# TO DO\n",
    "# Change this to 50 layers with 80 hidden units per layer"
   ]
  },
  {
   "cell_type": "code",
   "execution_count": 32,
   "metadata": {},
   "outputs": [
    {
     "name": "stdout",
     "output_type": "stream",
     "text": [
      "Layer 1, std of dl_dh = 3864161615668244381461267510373904423054174106385627368088294218476908925943808.000\n",
      "Layer 2, std of dl_dh = 644297462740804919130651565177435903179397812401254220414005154631900433743872.000\n",
      "Layer 3, std of dl_dh = 116256578506420975241043544836870687004014253364803063264811558279725340164096.000\n",
      "Layer 4, std of dl_dh = 18012406883088297002572801836553608314525629389712796537586292108455592329216.000\n",
      "Layer 5, std of dl_dh = 2657382923492156040986765681267977528171519851532885108585693309444049338368.000\n",
      "Layer 6, std of dl_dh = 437115574218245344458350487179115097134296090284775161101148264674829008896.000\n",
      "Layer 7, std of dl_dh = 72289425689022396249163393275495476638060479596217868903113604454959546368.000\n",
      "Layer 8, std of dl_dh = 10229045579369878629168594432237202474061585903562538767196464137472311296.000\n",
      "Layer 9, std of dl_dh = 1622769590787357613484856888469480777523681007385802895773946074252705792.000\n",
      "Layer 10, std of dl_dh = 291677266860870535859947191607075378175724226317655870274504864770818048.000\n",
      "Layer 11, std of dl_dh = 47040925004825722352541677340006022320097780899999487454402193947361280.000\n",
      "Layer 12, std of dl_dh = 7477794785556512561870544524514222904190343177295445298729337065832448.000\n",
      "Layer 13, std of dl_dh = 1079960630998983441314109256007596841311123833047256960124728991809536.000\n",
      "Layer 14, std of dl_dh = 177343205970746346967778093642488746598429707238845892914361820774400.000\n",
      "Layer 15, std of dl_dh = 29375585020824613835255558404699003509550170184245690282892605784064.000\n",
      "Layer 16, std of dl_dh = 4228152175740394588709269220799326558685239895315145862407071465472.000\n",
      "Layer 17, std of dl_dh = 571601369784794895910562631031416171904392915902935598268120301568.000\n",
      "Layer 18, std of dl_dh = 91625806080021466650277991025224655513242045111125485584616783872.000\n",
      "Layer 19, std of dl_dh = 12981649213666815470553036746972396917599455505424815878255411200.000\n",
      "Layer 20, std of dl_dh = 2521931090077676895426526752760019266445197562630231172451401728.000\n",
      "Layer 21, std of dl_dh = 366590511153710414641986622045887387392526691848514343519911936.000\n",
      "Layer 22, std of dl_dh = 51359326687770714591080421119603752588039560844573823207473152.000\n",
      "Layer 23, std of dl_dh = 8400447047412217384411313403421642231123427347819587759505408.000\n",
      "Layer 24, std of dl_dh = 1167175082942496437577952826235058182828232913615180278005760.000\n",
      "Layer 25, std of dl_dh = 189303733379321865551407622391393321339096406420319740362752.000\n",
      "Layer 26, std of dl_dh = 41712815717105584307761328813034352543580702600729622216704.000\n",
      "Layer 27, std of dl_dh = 5462460278894733452942109043961108684986345042145739538432.000\n",
      "Layer 28, std of dl_dh = 956779985561020489123290754674367786173519780486502678528.000\n",
      "Layer 29, std of dl_dh = 163553513870808627076465819924581131529796751796717223936.000\n",
      "Layer 30, std of dl_dh = 27962097471983048282779199579149906526177338456643993600.000\n",
      "Layer 31, std of dl_dh = 4533651840178385822391948121397188112673458774513549312.000\n",
      "Layer 32, std of dl_dh = 692775722996451728718226491840840333654533409484046336.000\n",
      "Layer 33, std of dl_dh = 115846381203838808661818838192193714359037102244495360.000\n",
      "Layer 34, std of dl_dh = 20622026877096524249536369757167377919784300786483200.000\n",
      "Layer 35, std of dl_dh = 3038521358601098976252946393276709907886443119771648.000\n",
      "Layer 36, std of dl_dh = 486644995502083293862182261602953900427389941317632.000\n",
      "Layer 37, std of dl_dh = 67762952239536224472312217781383003739723223007232.000\n",
      "Layer 38, std of dl_dh = 10332488588890052309758367211734776585507536109568.000\n",
      "Layer 39, std of dl_dh = 1461454311950454728123552330028228747759544434688.000\n",
      "Layer 40, std of dl_dh = 258241445087590816772771608958309679388482863104.000\n",
      "Layer 41, std of dl_dh = 40450451143651953145051042083546508464165486592.000\n",
      "Layer 42, std of dl_dh = 7712581729931045812800707659716619554040840192.000\n",
      "Layer 43, std of dl_dh = 1336239794865748519346034892487689182375837696.000\n",
      "Layer 44, std of dl_dh = 231495044789922184959983952343310884879204352.000\n",
      "Layer 45, std of dl_dh = 39500717745074512367426775088265226423894016.000\n",
      "Layer 46, std of dl_dh = 5987633018620223252680859241244423494828032.000\n",
      "Layer 47, std of dl_dh = 966020560711593766696858703753510484180992.000\n",
      "Layer 48, std of dl_dh = 140118487856732259162396380292093585653760.000\n",
      "Layer 49, std of dl_dh = 18817849764518898441793541474862592163840.000\n"
     ]
    }
   ],
   "source": [
    "# Number of layers\n",
    "K = 50\n",
    "# Number of neurons per layer\n",
    "D = 80\n",
    "  # Input layer\n",
    "D_i = 1\n",
    "# Output layer\n",
    "D_o = 1\n",
    "# Set variance of initial weights to 1\n",
    "sigma_sq_omega = 1.0\n",
    "# Initialize parameters\n",
    "all_weights, all_biases = init_params(K,D,sigma_sq_omega)\n",
    "\n",
    "# For simplicity we'll just consider the gradients of the weights and biases between the first and last hidden layer\n",
    "n_data = 100\n",
    "aggregate_dl_df = [None] * (K+1)\n",
    "for layer in range(1,K):\n",
    "  # These 3D arrays will store the gradients for every data point\n",
    "  aggregate_dl_df[layer] = np.zeros((D,n_data))\n",
    "\n",
    "\n",
    "# We'll have to compute the derivatives of the parameters for each data point separately\n",
    "for c_data in range(n_data):\n",
    "  data_in = np.random.normal(size=(1,1))\n",
    "  y = np.zeros((1,1))\n",
    "  net_output, all_f, all_h = compute_network_output(data_in, all_weights, all_biases)\n",
    "  all_dl_dweights, all_dl_dbiases, all_dl_dh, all_dl_df = backward_pass(all_weights, all_biases, all_f, all_h, y)\n",
    "  for layer in range(1,K):\n",
    "    aggregate_dl_df[layer][:,c_data] = np.squeeze(all_dl_df[layer])\n",
    "\n",
    "for layer in range(1,K):\n",
    "  print(\"Layer %d, std of dl_dh = %3.3f\"%(layer, np.std(aggregate_dl_df[layer].ravel())))\n"
   ]
  },
  {
   "cell_type": "code",
   "execution_count": null,
   "metadata": {
    "id": "gtokc0VX0839"
   },
   "outputs": [],
   "source": [
    "# TO DO\n",
    "# Now experiment with sigma_sq_omega to try to stop the variance of the gradients exploding"
   ]
  },
  {
   "cell_type": "code",
   "execution_count": 35,
   "metadata": {},
   "outputs": [
    {
     "name": "stdout",
     "output_type": "stream",
     "text": [
      "Layer 1, std of dl_dh = 0.030\n",
      "Layer 2, std of dl_dh = 0.032\n",
      "Layer 3, std of dl_dh = 0.037\n",
      "Layer 4, std of dl_dh = 0.036\n",
      "Layer 5, std of dl_dh = 0.034\n",
      "Layer 6, std of dl_dh = 0.035\n",
      "Layer 7, std of dl_dh = 0.036\n",
      "Layer 8, std of dl_dh = 0.033\n",
      "Layer 9, std of dl_dh = 0.033\n",
      "Layer 10, std of dl_dh = 0.037\n",
      "Layer 11, std of dl_dh = 0.038\n",
      "Layer 12, std of dl_dh = 0.038\n",
      "Layer 13, std of dl_dh = 0.035\n",
      "Layer 14, std of dl_dh = 0.036\n",
      "Layer 15, std of dl_dh = 0.038\n",
      "Layer 16, std of dl_dh = 0.035\n",
      "Layer 17, std of dl_dh = 0.030\n",
      "Layer 18, std of dl_dh = 0.030\n",
      "Layer 19, std of dl_dh = 0.027\n",
      "Layer 20, std of dl_dh = 0.033\n",
      "Layer 21, std of dl_dh = 0.030\n",
      "Layer 22, std of dl_dh = 0.027\n",
      "Layer 23, std of dl_dh = 0.028\n",
      "Layer 24, std of dl_dh = 0.024\n",
      "Layer 25, std of dl_dh = 0.025\n",
      "Layer 26, std of dl_dh = 0.035\n",
      "Layer 27, std of dl_dh = 0.029\n",
      "Layer 28, std of dl_dh = 0.032\n",
      "Layer 29, std of dl_dh = 0.035\n",
      "Layer 30, std of dl_dh = 0.037\n",
      "Layer 31, std of dl_dh = 0.038\n",
      "Layer 32, std of dl_dh = 0.037\n",
      "Layer 33, std of dl_dh = 0.039\n",
      "Layer 34, std of dl_dh = 0.044\n",
      "Layer 35, std of dl_dh = 0.041\n",
      "Layer 36, std of dl_dh = 0.042\n",
      "Layer 37, std of dl_dh = 0.037\n",
      "Layer 38, std of dl_dh = 0.035\n",
      "Layer 39, std of dl_dh = 0.032\n",
      "Layer 40, std of dl_dh = 0.035\n",
      "Layer 41, std of dl_dh = 0.035\n",
      "Layer 42, std of dl_dh = 0.042\n",
      "Layer 43, std of dl_dh = 0.046\n",
      "Layer 44, std of dl_dh = 0.051\n",
      "Layer 45, std of dl_dh = 0.055\n",
      "Layer 46, std of dl_dh = 0.053\n",
      "Layer 47, std of dl_dh = 0.054\n",
      "Layer 48, std of dl_dh = 0.049\n",
      "Layer 49, std of dl_dh = 0.042\n"
     ]
    }
   ],
   "source": [
    "# Number of layers\n",
    "K = 50\n",
    "# Number of neurons per layer\n",
    "D = 80\n",
    "  # Input layer\n",
    "D_i = 1\n",
    "# Output layer\n",
    "D_o = 1\n",
    "# Set variance of initial weights to 1\n",
    "sigma_sq_omega = 0.025\n",
    "# Initialize parameters\n",
    "all_weights, all_biases = init_params(K,D,sigma_sq_omega)\n",
    "\n",
    "# For simplicity we'll just consider the gradients of the weights and biases between the first and last hidden layer\n",
    "n_data = 100\n",
    "aggregate_dl_df = [None] * (K+1)\n",
    "for layer in range(1,K):\n",
    "  # These 3D arrays will store the gradients for every data point\n",
    "  aggregate_dl_df[layer] = np.zeros((D,n_data))\n",
    "\n",
    "\n",
    "# We'll have to compute the derivatives of the parameters for each data point separately\n",
    "for c_data in range(n_data):\n",
    "  data_in = np.random.normal(size=(1,1))\n",
    "  y = np.zeros((1,1))\n",
    "  net_output, all_f, all_h = compute_network_output(data_in, all_weights, all_biases)\n",
    "  all_dl_dweights, all_dl_dbiases, all_dl_dh, all_dl_df = backward_pass(all_weights, all_biases, all_f, all_h, y)\n",
    "  for layer in range(1,K):\n",
    "    aggregate_dl_df[layer][:,c_data] = np.squeeze(all_dl_df[layer])\n",
    "\n",
    "for layer in range(1,K):\n",
    "  print(\"Layer %d, std of dl_dh = %3.3f\"%(layer, np.std(aggregate_dl_df[layer].ravel())))\n"
   ]
  },
  {
   "cell_type": "code",
   "execution_count": null,
   "metadata": {},
   "outputs": [],
   "source": []
  }
 ],
 "metadata": {
  "colab": {
   "authorship_tag": "ABX9TyNHLXFpiSnUzAbzhtOk+bxu",
   "include_colab_link": true,
   "provenance": []
  },
  "kernelspec": {
   "display_name": "Python 3 (ipykernel)",
   "language": "python",
   "name": "python3"
  },
  "language_info": {
   "codemirror_mode": {
    "name": "ipython",
    "version": 3
   },
   "file_extension": ".py",
   "mimetype": "text/x-python",
   "name": "python",
   "nbconvert_exporter": "python",
   "pygments_lexer": "ipython3",
   "version": "3.11.4"
  }
 },
 "nbformat": 4,
 "nbformat_minor": 1
}
