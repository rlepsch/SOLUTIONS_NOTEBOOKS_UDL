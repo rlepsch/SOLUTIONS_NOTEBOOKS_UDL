{
 "cells": [
  {
   "cell_type": "markdown",
   "metadata": {
    "colab_type": "text",
    "id": "view-in-github"
   },
   "source": [
    "<a href=\"https://colab.research.google.com/github/udlbook/udlbook/blob/main/Notebooks/Chap20/20_4_Adversarial_Attacks.ipynb\" target=\"_parent\"><img src=\"https://colab.research.google.com/assets/colab-badge.svg\" alt=\"Open In Colab\"/></a>"
   ]
  },
  {
   "cell_type": "markdown",
   "metadata": {
    "id": "t9vk9Elugvmi"
   },
   "source": [
    "# **Notebook 20.4: Adversarial attacks**\n",
    "\n",
    "This notebook builds uses the network for classification of MNIST from Notebook 10.5.  The code is adapted from https://nextjournal.com/gkoehler/pytorch-mnist, and uses the fast gradient sign attack of [Goodfellow et al. (2015)](https://arxiv.org/abs/1412.6572).  Having trained, the network, we search for adversarial examples -- inputs which look very similar to class A, but are mistakenly classified as class B.  We do this by starting with a correctly classified example and perturbing it according to the gradients of the network so that the output changes.\n",
    "\n",
    "Work through the cells below, running each cell in turn. In various places you will see the words \"TO DO\". Follow the instructions at these places and make predictions about what is going to happen or write code to complete the functions.\n",
    "\n",
    "Contact me at udlbookmail@gmail.com if you find any mistakes or have any suggestions.\n"
   ]
  },
  {
   "cell_type": "code",
   "execution_count": 6,
   "metadata": {
    "id": "YrXWAH7sUWvU"
   },
   "outputs": [],
   "source": [
    "import torch\n",
    "import torchvision\n",
    "import torch.nn as nn\n",
    "import torch.nn.functional as F\n",
    "import torch.optim as optim\n",
    "import matplotlib.pyplot as plt\n",
    "import random"
   ]
  },
  {
   "cell_type": "code",
   "execution_count": 9,
   "metadata": {
    "id": "wScBGXXFVadm"
   },
   "outputs": [
    {
     "name": "stdout",
     "output_type": "stream",
     "text": [
      "Downloading http://yann.lecun.com/exdb/mnist/train-images-idx3-ubyte.gz\n",
      "Downloading http://yann.lecun.com/exdb/mnist/train-images-idx3-ubyte.gz to ./files/MNIST/raw/train-images-idx3-ubyte.gz\n"
     ]
    },
    {
     "name": "stderr",
     "output_type": "stream",
     "text": [
      "100%|█████████████████████████████████████████████████████████████████████████████████████████████████████████████████████████████████████████████████████████████████████████████████████████████████████████████████████████| 9912422/9912422 [00:00<00:00, 60739691.22it/s]\n"
     ]
    },
    {
     "name": "stdout",
     "output_type": "stream",
     "text": [
      "Extracting ./files/MNIST/raw/train-images-idx3-ubyte.gz to ./files/MNIST/raw\n",
      "\n",
      "Downloading http://yann.lecun.com/exdb/mnist/train-labels-idx1-ubyte.gz\n",
      "Downloading http://yann.lecun.com/exdb/mnist/train-labels-idx1-ubyte.gz to ./files/MNIST/raw/train-labels-idx1-ubyte.gz\n"
     ]
    },
    {
     "name": "stderr",
     "output_type": "stream",
     "text": [
      "100%|█████████████████████████████████████████████████████████████████████████████████████████████████████████████████████████████████████████████████████████████████████████████████████████████████████████████████████████████| 28881/28881 [00:00<00:00, 14846879.99it/s]\n"
     ]
    },
    {
     "name": "stdout",
     "output_type": "stream",
     "text": [
      "Extracting ./files/MNIST/raw/train-labels-idx1-ubyte.gz to ./files/MNIST/raw\n",
      "\n",
      "Downloading http://yann.lecun.com/exdb/mnist/t10k-images-idx3-ubyte.gz\n",
      "Downloading http://yann.lecun.com/exdb/mnist/t10k-images-idx3-ubyte.gz to ./files/MNIST/raw/t10k-images-idx3-ubyte.gz\n"
     ]
    },
    {
     "name": "stderr",
     "output_type": "stream",
     "text": [
      "100%|█████████████████████████████████████████████████████████████████████████████████████████████████████████████████████████████████████████████████████████████████████████████████████████████████████████████████████████| 1648877/1648877 [00:00<00:00, 13255487.23it/s]\n"
     ]
    },
    {
     "name": "stdout",
     "output_type": "stream",
     "text": [
      "Extracting ./files/MNIST/raw/t10k-images-idx3-ubyte.gz to ./files/MNIST/raw\n",
      "\n",
      "Downloading http://yann.lecun.com/exdb/mnist/t10k-labels-idx1-ubyte.gz\n",
      "Downloading http://yann.lecun.com/exdb/mnist/t10k-labels-idx1-ubyte.gz to ./files/MNIST/raw/t10k-labels-idx1-ubyte.gz\n"
     ]
    },
    {
     "name": "stderr",
     "output_type": "stream",
     "text": [
      "100%|████████████████████████████████████████████████████████████████████████████████████████████████████████████████████████████████████████████████████████████████████████████████████████████████████████████████████████████████| 4542/4542 [00:00<00:00, 4281017.70it/s]"
     ]
    },
    {
     "name": "stdout",
     "output_type": "stream",
     "text": [
      "Extracting ./files/MNIST/raw/t10k-labels-idx1-ubyte.gz to ./files/MNIST/raw\n",
      "\n"
     ]
    },
    {
     "name": "stderr",
     "output_type": "stream",
     "text": [
      "\n"
     ]
    }
   ],
   "source": [
    "# Run this once to load the train and test data straight into a dataloader class\n",
    "# that will provide the batches\n",
    "batch_size_train = 64\n",
    "batch_size_test = 1000\n",
    "train_loader = torch.utils.data.DataLoader(\n",
    "  torchvision.datasets.MNIST('./files/', train=True, download=True,\n",
    "                             transform=torchvision.transforms.Compose([\n",
    "                               torchvision.transforms.ToTensor(),\n",
    "                               torchvision.transforms.Normalize(\n",
    "                                 (0.1307,), (0.3081,))\n",
    "                             ])),\n",
    "  batch_size=batch_size_train, shuffle=True)\n",
    "\n",
    "test_loader = torch.utils.data.DataLoader(\n",
    "  torchvision.datasets.MNIST('./files/', train=False, download=True,\n",
    "                             transform=torchvision.transforms.Compose([\n",
    "                               torchvision.transforms.ToTensor(),\n",
    "                               torchvision.transforms.Normalize(\n",
    "                                 (0.1307,), (0.3081,))\n",
    "                             ])),\n",
    "  batch_size=batch_size_test, shuffle=True)"
   ]
  },
  {
   "cell_type": "code",
   "execution_count": 10,
   "metadata": {
    "id": "8bKADvLHbiV5"
   },
   "outputs": [
    {
     "data": {
      "image/png": "[encoded data removed]",
      "text/plain": [
       "<Figure size 640x480 with 6 Axes>"
      ]
     },
     "metadata": {},
     "output_type": "display_data"
    }
   ],
   "source": [
    "# Let's draw some of the training data\n",
    "examples = enumerate(test_loader)\n",
    "batch_idx, (example_data, example_targets) = next(examples)\n",
    "\n",
    "fig = plt.figure()\n",
    "for i in range(6):\n",
    "  plt.subplot(2,3,i+1)\n",
    "  plt.tight_layout()\n",
    "  plt.imshow(example_data[i][0], cmap='gray', interpolation='none')\n",
    "  plt.title(\"Ground Truth: {}\".format(example_targets[i]))\n",
    "  plt.xticks([])\n",
    "  plt.yticks([])\n",
    "plt.show()"
   ]
  },
  {
   "cell_type": "markdown",
   "metadata": {
    "id": "_sFvRDGrl4qe"
   },
   "source": [
    "Define the network.  This is a more typical way to define a network than the sequential structure.  We define a class for the network, and define the parameters in the constructor.  Then we use a function called forward to actually run the network.  It's easy to see how you might use residual connections in this format."
   ]
  },
  {
   "cell_type": "code",
   "execution_count": 11,
   "metadata": {
    "id": "EQkvw2KOPVl7"
   },
   "outputs": [],
   "source": [
    "from os import X_OK\n",
    "\n",
    "class Net(nn.Module):\n",
    "    def __init__(self):\n",
    "        super(Net, self).__init__()\n",
    "        self.conv1 = nn.Conv2d(1, 10, kernel_size=5)\n",
    "        self.conv2 = nn.Conv2d(10, 20, kernel_size=5)\n",
    "        self.drop = nn.Dropout2d()\n",
    "        self.fc1 = nn.Linear(320, 50)\n",
    "        self.fc2 = nn.Linear(50, 10)\n",
    "\n",
    "    def forward(self, x):\n",
    "        x = self.conv1(x)\n",
    "        x = F.max_pool2d(x,2)\n",
    "        x = F.relu(x)\n",
    "        x = self.conv2(x)\n",
    "        x = self.drop(x)\n",
    "        x = F.max_pool2d(x,2)\n",
    "        x = F.relu(x)\n",
    "        x = x.flatten(1)\n",
    "        x = F.relu(self.fc1(x))\n",
    "        x = self.fc2(x)\n",
    "        x = F.log_softmax(x)\n",
    "        return x"
   ]
  },
  {
   "cell_type": "code",
   "execution_count": 12,
   "metadata": {
    "id": "qWZtkCZcU_dg"
   },
   "outputs": [],
   "source": [
    "# He initialization of weights\n",
    "def weights_init(layer_in):\n",
    "  if isinstance(layer_in, nn.Linear):\n",
    "    nn.init.kaiming_uniform_(layer_in.weight)\n",
    "    layer_in.bias.data.fill_(0.0)"
   ]
  },
  {
   "cell_type": "code",
   "execution_count": 13,
   "metadata": {
    "id": "FslroPJJffrh"
   },
   "outputs": [],
   "source": [
    "# Create network\n",
    "model = Net()\n",
    "# Initialize model weights\n",
    "model.apply(weights_init)\n",
    "# Define optimizer\n",
    "optimizer = optim.SGD(model.parameters(), lr=0.01, momentum=0.5)"
   ]
  },
  {
   "cell_type": "code",
   "execution_count": 14,
   "metadata": {
    "id": "xKQd9PzkQ766"
   },
   "outputs": [],
   "source": [
    "# Main training routine\n",
    "def train(epoch):\n",
    "  model.train()\n",
    "  # Get each\n",
    "  for batch_idx, (data, target) in enumerate(train_loader):\n",
    "    optimizer.zero_grad()\n",
    "    output = model(data)\n",
    "    loss = F.nll_loss(output, target)\n",
    "    loss.backward()\n",
    "    optimizer.step()\n",
    "    # Store results\n",
    "    if batch_idx % 10 == 0:\n",
    "      print('Train Epoch: {} [{}/{}]\\tLoss: {:.6f}'.format(\n",
    "        epoch, batch_idx * len(data), len(train_loader.dataset), loss.item()))"
   ]
  },
  {
   "cell_type": "code",
   "execution_count": 15,
   "metadata": {
    "id": "Byn-f7qWRLxX"
   },
   "outputs": [],
   "source": [
    "# Run on test data\n",
    "def test():\n",
    "  model.eval()\n",
    "  test_loss = 0\n",
    "  correct = 0\n",
    "  with torch.no_grad():\n",
    "    for data, target in test_loader:\n",
    "      output = model(data)\n",
    "      test_loss += F.nll_loss(output, target, size_average=False).item()\n",
    "      pred = output.data.max(1, keepdim=True)[1]\n",
    "      correct += pred.eq(target.data.view_as(pred)).sum()\n",
    "  test_loss /= len(test_loader.dataset)\n",
    "  print('\\nTest set: Avg. loss: {:.4f}, Accuracy: {}/{} ({:.0f}%)\\n'.format(\n",
    "    test_loss, correct, len(test_loader.dataset),\n",
    "    100. * correct / len(test_loader.dataset)))"
   ]
  },
  {
   "cell_type": "code",
   "execution_count": 16,
   "metadata": {
    "id": "YgLaex1pfhqz"
   },
   "outputs": [
    {
     "name": "stderr",
     "output_type": "stream",
     "text": [
      "/var/folders/lz/6kl6lw7s3pg9dmb1pkl7fdlw0000gn/T/ipykernel_46714/237405460.py:23: UserWarning: Implicit dimension choice for log_softmax has been deprecated. Change the call to include dim=X as an argument.\n",
      "  x = F.log_softmax(x)\n",
      "/Users/reinaldolepsch/anaconda3/lib/python3.11/site-packages/torch/nn/_reduction.py:42: UserWarning: size_average and reduce args will be deprecated, please use reduction='sum' instead.\n",
      "  warnings.warn(warning.format(ret))\n"
     ]
    },
    {
     "name": "stdout",
     "output_type": "stream",
     "text": [
      "\n",
      "Test set: Avg. loss: 2.3894, Accuracy: 1069/10000 (11%)\n",
      "\n",
      "Train Epoch: 1 [0/60000]\tLoss: 2.430787\n",
      "Train Epoch: 1 [640/60000]\tLoss: 2.244782\n",
      "Train Epoch: 1 [1280/60000]\tLoss: 2.099056\n",
      "Train Epoch: 1 [1920/60000]\tLoss: 1.973177\n",
      "Train Epoch: 1 [2560/60000]\tLoss: 1.663265\n",
      "Train Epoch: 1 [3200/60000]\tLoss: 1.523254\n",
      "Train Epoch: 1 [3840/60000]\tLoss: 1.077435\n",
      "Train Epoch: 1 [4480/60000]\tLoss: 1.072098\n",
      "Train Epoch: 1 [5120/60000]\tLoss: 0.906204\n",
      "Train Epoch: 1 [5760/60000]\tLoss: 0.872510\n",
      "Train Epoch: 1 [6400/60000]\tLoss: 1.014922\n",
      "Train Epoch: 1 [7040/60000]\tLoss: 0.856896\n",
      "Train Epoch: 1 [7680/60000]\tLoss: 0.722156\n",
      "Train Epoch: 1 [8320/60000]\tLoss: 0.798528\n",
      "Train Epoch: 1 [8960/60000]\tLoss: 0.716425\n",
      "Train Epoch: 1 [9600/60000]\tLoss: 0.533787\n",
      "Train Epoch: 1 [10240/60000]\tLoss: 0.527077\n",
      "Train Epoch: 1 [10880/60000]\tLoss: 0.680682\n",
      "Train Epoch: 1 [11520/60000]\tLoss: 0.682358\n",
      "Train Epoch: 1 [12160/60000]\tLoss: 0.526916\n",
      "Train Epoch: 1 [12800/60000]\tLoss: 0.681736\n",
      "Train Epoch: 1 [13440/60000]\tLoss: 0.370144\n",
      "Train Epoch: 1 [14080/60000]\tLoss: 0.540118\n",
      "Train Epoch: 1 [14720/60000]\tLoss: 0.300198\n",
      "Train Epoch: 1 [15360/60000]\tLoss: 0.442424\n",
      "Train Epoch: 1 [16000/60000]\tLoss: 0.422128\n",
      "Train Epoch: 1 [16640/60000]\tLoss: 0.474825\n",
      "Train Epoch: 1 [17280/60000]\tLoss: 0.352510\n",
      "Train Epoch: 1 [17920/60000]\tLoss: 0.347957\n",
      "Train Epoch: 1 [18560/60000]\tLoss: 0.407300\n",
      "Train Epoch: 1 [19200/60000]\tLoss: 0.508758\n",
      "Train Epoch: 1 [19840/60000]\tLoss: 0.456566\n",
      "Train Epoch: 1 [20480/60000]\tLoss: 0.486024\n",
      "Train Epoch: 1 [21120/60000]\tLoss: 0.290113\n",
      "Train Epoch: 1 [21760/60000]\tLoss: 0.451393\n",
      "Train Epoch: 1 [22400/60000]\tLoss: 0.670058\n",
      "Train Epoch: 1 [23040/60000]\tLoss: 0.286654\n",
      "Train Epoch: 1 [23680/60000]\tLoss: 0.473087\n",
      "Train Epoch: 1 [24320/60000]\tLoss: 0.356521\n",
      "Train Epoch: 1 [24960/60000]\tLoss: 0.499360\n",
      "Train Epoch: 1 [25600/60000]\tLoss: 0.716433\n",
      "Train Epoch: 1 [26240/60000]\tLoss: 0.156483\n",
      "Train Epoch: 1 [26880/60000]\tLoss: 0.155495\n",
      "Train Epoch: 1 [27520/60000]\tLoss: 0.322052\n",
      "Train Epoch: 1 [28160/60000]\tLoss: 0.633812\n",
      "Train Epoch: 1 [28800/60000]\tLoss: 0.349965\n",
      "Train Epoch: 1 [29440/60000]\tLoss: 0.371773\n",
      "Train Epoch: 1 [30080/60000]\tLoss: 0.404613\n",
      "Train Epoch: 1 [30720/60000]\tLoss: 0.249197\n",
      "Train Epoch: 1 [31360/60000]\tLoss: 0.265446\n",
      "Train Epoch: 1 [32000/60000]\tLoss: 0.190247\n",
      "Train Epoch: 1 [32640/60000]\tLoss: 0.227115\n",
      "Train Epoch: 1 [33280/60000]\tLoss: 0.203010\n",
      "Train Epoch: 1 [33920/60000]\tLoss: 0.307751\n",
      "Train Epoch: 1 [34560/60000]\tLoss: 0.284220\n",
      "Train Epoch: 1 [35200/60000]\tLoss: 0.316149\n",
      "Train Epoch: 1 [35840/60000]\tLoss: 0.350993\n",
      "Train Epoch: 1 [36480/60000]\tLoss: 0.287499\n",
      "Train Epoch: 1 [37120/60000]\tLoss: 0.260431\n",
      "Train Epoch: 1 [37760/60000]\tLoss: 0.238314\n",
      "Train Epoch: 1 [38400/60000]\tLoss: 0.324141\n",
      "Train Epoch: 1 [39040/60000]\tLoss: 0.208694\n",
      "Train Epoch: 1 [39680/60000]\tLoss: 0.142378\n",
      "Train Epoch: 1 [40320/60000]\tLoss: 0.347081\n",
      "Train Epoch: 1 [40960/60000]\tLoss: 0.277701\n",
      "Train Epoch: 1 [41600/60000]\tLoss: 0.296597\n",
      "Train Epoch: 1 [42240/60000]\tLoss: 0.426471\n",
      "Train Epoch: 1 [42880/60000]\tLoss: 0.289662\n",
      "Train Epoch: 1 [43520/60000]\tLoss: 0.326374\n",
      "Train Epoch: 1 [44160/60000]\tLoss: 0.225252\n",
      "Train Epoch: 1 [44800/60000]\tLoss: 0.161464\n",
      "Train Epoch: 1 [45440/60000]\tLoss: 0.202976\n",
      "Train Epoch: 1 [46080/60000]\tLoss: 0.378866\n",
      "Train Epoch: 1 [46720/60000]\tLoss: 0.097418\n",
      "Train Epoch: 1 [47360/60000]\tLoss: 0.394956\n",
      "Train Epoch: 1 [48000/60000]\tLoss: 0.139748\n",
      "Train Epoch: 1 [48640/60000]\tLoss: 0.279120\n",
      "Train Epoch: 1 [49280/60000]\tLoss: 0.242949\n",
      "Train Epoch: 1 [49920/60000]\tLoss: 0.285985\n",
      "Train Epoch: 1 [50560/60000]\tLoss: 0.270418\n",
      "Train Epoch: 1 [51200/60000]\tLoss: 0.185413\n",
      "Train Epoch: 1 [51840/60000]\tLoss: 0.233808\n",
      "Train Epoch: 1 [52480/60000]\tLoss: 0.160895\n",
      "Train Epoch: 1 [53120/60000]\tLoss: 0.197642\n",
      "Train Epoch: 1 [53760/60000]\tLoss: 0.297369\n",
      "Train Epoch: 1 [54400/60000]\tLoss: 0.188534\n",
      "Train Epoch: 1 [55040/60000]\tLoss: 0.125596\n",
      "Train Epoch: 1 [55680/60000]\tLoss: 0.300868\n",
      "Train Epoch: 1 [56320/60000]\tLoss: 0.176902\n",
      "Train Epoch: 1 [56960/60000]\tLoss: 0.214948\n",
      "Train Epoch: 1 [57600/60000]\tLoss: 0.212215\n",
      "Train Epoch: 1 [58240/60000]\tLoss: 0.383244\n",
      "Train Epoch: 1 [58880/60000]\tLoss: 0.330342\n",
      "Train Epoch: 1 [59520/60000]\tLoss: 0.451703\n",
      "\n",
      "Test set: Avg. loss: 0.1195, Accuracy: 9625/10000 (96%)\n",
      "\n",
      "Train Epoch: 2 [0/60000]\tLoss: 0.204688\n",
      "Train Epoch: 2 [640/60000]\tLoss: 0.177096\n",
      "Train Epoch: 2 [1280/60000]\tLoss: 0.128131\n",
      "Train Epoch: 2 [1920/60000]\tLoss: 0.336351\n",
      "Train Epoch: 2 [2560/60000]\tLoss: 0.150382\n",
      "Train Epoch: 2 [3200/60000]\tLoss: 0.267882\n",
      "Train Epoch: 2 [3840/60000]\tLoss: 0.398257\n",
      "Train Epoch: 2 [4480/60000]\tLoss: 0.547275\n",
      "Train Epoch: 2 [5120/60000]\tLoss: 0.078030\n",
      "Train Epoch: 2 [5760/60000]\tLoss: 0.538344\n",
      "Train Epoch: 2 [6400/60000]\tLoss: 0.451725\n",
      "Train Epoch: 2 [7040/60000]\tLoss: 0.077120\n",
      "Train Epoch: 2 [7680/60000]\tLoss: 0.176659\n",
      "Train Epoch: 2 [8320/60000]\tLoss: 0.143312\n",
      "Train Epoch: 2 [8960/60000]\tLoss: 0.126276\n",
      "Train Epoch: 2 [9600/60000]\tLoss: 0.230938\n",
      "Train Epoch: 2 [10240/60000]\tLoss: 0.368588\n",
      "Train Epoch: 2 [10880/60000]\tLoss: 0.135235\n",
      "Train Epoch: 2 [11520/60000]\tLoss: 0.344325\n",
      "Train Epoch: 2 [12160/60000]\tLoss: 0.253237\n",
      "Train Epoch: 2 [12800/60000]\tLoss: 0.320234\n",
      "Train Epoch: 2 [13440/60000]\tLoss: 0.172361\n",
      "Train Epoch: 2 [14080/60000]\tLoss: 0.242755\n",
      "Train Epoch: 2 [14720/60000]\tLoss: 0.137237\n",
      "Train Epoch: 2 [15360/60000]\tLoss: 0.164992\n",
      "Train Epoch: 2 [16000/60000]\tLoss: 0.389920\n",
      "Train Epoch: 2 [16640/60000]\tLoss: 0.105348\n",
      "Train Epoch: 2 [17280/60000]\tLoss: 0.143168\n",
      "Train Epoch: 2 [17920/60000]\tLoss: 0.099790\n",
      "Train Epoch: 2 [18560/60000]\tLoss: 0.350260\n",
      "Train Epoch: 2 [19200/60000]\tLoss: 0.249672\n",
      "Train Epoch: 2 [19840/60000]\tLoss: 0.243434\n",
      "Train Epoch: 2 [20480/60000]\tLoss: 0.175312\n",
      "Train Epoch: 2 [21120/60000]\tLoss: 0.195355\n",
      "Train Epoch: 2 [21760/60000]\tLoss: 0.329827\n",
      "Train Epoch: 2 [22400/60000]\tLoss: 0.400091\n",
      "Train Epoch: 2 [23040/60000]\tLoss: 0.187620\n",
      "Train Epoch: 2 [23680/60000]\tLoss: 0.164168\n",
      "Train Epoch: 2 [24320/60000]\tLoss: 0.093250\n",
      "Train Epoch: 2 [24960/60000]\tLoss: 0.198045\n",
      "Train Epoch: 2 [25600/60000]\tLoss: 0.047529\n",
      "Train Epoch: 2 [26240/60000]\tLoss: 0.262982\n",
      "Train Epoch: 2 [26880/60000]\tLoss: 0.112919\n",
      "Train Epoch: 2 [27520/60000]\tLoss: 0.101931\n",
      "Train Epoch: 2 [28160/60000]\tLoss: 0.109804\n",
      "Train Epoch: 2 [28800/60000]\tLoss: 0.312691\n",
      "Train Epoch: 2 [29440/60000]\tLoss: 0.326159\n",
      "Train Epoch: 2 [30080/60000]\tLoss: 0.060862\n",
      "Train Epoch: 2 [30720/60000]\tLoss: 0.205880\n",
      "Train Epoch: 2 [31360/60000]\tLoss: 0.088619\n",
      "Train Epoch: 2 [32000/60000]\tLoss: 0.068619\n",
      "Train Epoch: 2 [32640/60000]\tLoss: 0.313514\n",
      "Train Epoch: 2 [33280/60000]\tLoss: 0.171727\n",
      "Train Epoch: 2 [33920/60000]\tLoss: 0.269379\n",
      "Train Epoch: 2 [34560/60000]\tLoss: 0.196786\n",
      "Train Epoch: 2 [35200/60000]\tLoss: 0.297662\n",
      "Train Epoch: 2 [35840/60000]\tLoss: 0.135089\n",
      "Train Epoch: 2 [36480/60000]\tLoss: 0.198699\n",
      "Train Epoch: 2 [37120/60000]\tLoss: 0.157010\n",
      "Train Epoch: 2 [37760/60000]\tLoss: 0.134022\n",
      "Train Epoch: 2 [38400/60000]\tLoss: 0.083641\n",
      "Train Epoch: 2 [39040/60000]\tLoss: 0.176983\n",
      "Train Epoch: 2 [39680/60000]\tLoss: 0.176113\n",
      "Train Epoch: 2 [40320/60000]\tLoss: 0.116688\n",
      "Train Epoch: 2 [40960/60000]\tLoss: 0.334670\n",
      "Train Epoch: 2 [41600/60000]\tLoss: 0.104518\n",
      "Train Epoch: 2 [42240/60000]\tLoss: 0.070466\n",
      "Train Epoch: 2 [42880/60000]\tLoss: 0.147218\n",
      "Train Epoch: 2 [43520/60000]\tLoss: 0.249628\n",
      "Train Epoch: 2 [44160/60000]\tLoss: 0.414353\n",
      "Train Epoch: 2 [44800/60000]\tLoss: 0.139596\n",
      "Train Epoch: 2 [45440/60000]\tLoss: 0.248576\n",
      "Train Epoch: 2 [46080/60000]\tLoss: 0.123513\n",
      "Train Epoch: 2 [46720/60000]\tLoss: 0.064701\n",
      "Train Epoch: 2 [47360/60000]\tLoss: 0.187642\n",
      "Train Epoch: 2 [48000/60000]\tLoss: 0.083985\n",
      "Train Epoch: 2 [48640/60000]\tLoss: 0.175278\n",
      "Train Epoch: 2 [49280/60000]\tLoss: 0.129090\n",
      "Train Epoch: 2 [49920/60000]\tLoss: 0.332224\n",
      "Train Epoch: 2 [50560/60000]\tLoss: 0.094242\n",
      "Train Epoch: 2 [51200/60000]\tLoss: 0.142937\n",
      "Train Epoch: 2 [51840/60000]\tLoss: 0.260893\n",
      "Train Epoch: 2 [52480/60000]\tLoss: 0.152848\n",
      "Train Epoch: 2 [53120/60000]\tLoss: 0.239284\n",
      "Train Epoch: 2 [53760/60000]\tLoss: 0.074927\n",
      "Train Epoch: 2 [54400/60000]\tLoss: 0.281660\n",
      "Train Epoch: 2 [55040/60000]\tLoss: 0.141796\n",
      "Train Epoch: 2 [55680/60000]\tLoss: 0.217285\n",
      "Train Epoch: 2 [56320/60000]\tLoss: 0.137766\n",
      "Train Epoch: 2 [56960/60000]\tLoss: 0.275890\n",
      "Train Epoch: 2 [57600/60000]\tLoss: 0.161422\n"
     ]
    },
    {
     "name": "stdout",
     "output_type": "stream",
     "text": [
      "Train Epoch: 2 [58240/60000]\tLoss: 0.076533\n",
      "Train Epoch: 2 [58880/60000]\tLoss: 0.075084\n",
      "Train Epoch: 2 [59520/60000]\tLoss: 0.162269\n",
      "\n",
      "Test set: Avg. loss: 0.0792, Accuracy: 9730/10000 (97%)\n",
      "\n",
      "Train Epoch: 3 [0/60000]\tLoss: 0.155973\n",
      "Train Epoch: 3 [640/60000]\tLoss: 0.130107\n",
      "Train Epoch: 3 [1280/60000]\tLoss: 0.224606\n",
      "Train Epoch: 3 [1920/60000]\tLoss: 0.222642\n",
      "Train Epoch: 3 [2560/60000]\tLoss: 0.061646\n",
      "Train Epoch: 3 [3200/60000]\tLoss: 0.114214\n",
      "Train Epoch: 3 [3840/60000]\tLoss: 0.110806\n",
      "Train Epoch: 3 [4480/60000]\tLoss: 0.103650\n",
      "Train Epoch: 3 [5120/60000]\tLoss: 0.243535\n",
      "Train Epoch: 3 [5760/60000]\tLoss: 0.179149\n",
      "Train Epoch: 3 [6400/60000]\tLoss: 0.108462\n",
      "Train Epoch: 3 [7040/60000]\tLoss: 0.071648\n",
      "Train Epoch: 3 [7680/60000]\tLoss: 0.149102\n",
      "Train Epoch: 3 [8320/60000]\tLoss: 0.173164\n",
      "Train Epoch: 3 [8960/60000]\tLoss: 0.112220\n",
      "Train Epoch: 3 [9600/60000]\tLoss: 0.117009\n",
      "Train Epoch: 3 [10240/60000]\tLoss: 0.086253\n",
      "Train Epoch: 3 [10880/60000]\tLoss: 0.154877\n",
      "Train Epoch: 3 [11520/60000]\tLoss: 0.100713\n",
      "Train Epoch: 3 [12160/60000]\tLoss: 0.231066\n",
      "Train Epoch: 3 [12800/60000]\tLoss: 0.090481\n",
      "Train Epoch: 3 [13440/60000]\tLoss: 0.311822\n",
      "Train Epoch: 3 [14080/60000]\tLoss: 0.157891\n",
      "Train Epoch: 3 [14720/60000]\tLoss: 0.185991\n",
      "Train Epoch: 3 [15360/60000]\tLoss: 0.198346\n",
      "Train Epoch: 3 [16000/60000]\tLoss: 0.525443\n",
      "Train Epoch: 3 [16640/60000]\tLoss: 0.329181\n",
      "Train Epoch: 3 [17280/60000]\tLoss: 0.052503\n",
      "Train Epoch: 3 [17920/60000]\tLoss: 0.107730\n",
      "Train Epoch: 3 [18560/60000]\tLoss: 0.037199\n",
      "Train Epoch: 3 [19200/60000]\tLoss: 0.125023\n",
      "Train Epoch: 3 [19840/60000]\tLoss: 0.170728\n",
      "Train Epoch: 3 [20480/60000]\tLoss: 0.291098\n",
      "Train Epoch: 3 [21120/60000]\tLoss: 0.045820\n",
      "Train Epoch: 3 [21760/60000]\tLoss: 0.154854\n",
      "Train Epoch: 3 [22400/60000]\tLoss: 0.034928\n",
      "Train Epoch: 3 [23040/60000]\tLoss: 0.231558\n",
      "Train Epoch: 3 [23680/60000]\tLoss: 0.040147\n",
      "Train Epoch: 3 [24320/60000]\tLoss: 0.173377\n",
      "Train Epoch: 3 [24960/60000]\tLoss: 0.090640\n",
      "Train Epoch: 3 [25600/60000]\tLoss: 0.219954\n",
      "Train Epoch: 3 [26240/60000]\tLoss: 0.381993\n",
      "Train Epoch: 3 [26880/60000]\tLoss: 0.065798\n",
      "Train Epoch: 3 [27520/60000]\tLoss: 0.043811\n",
      "Train Epoch: 3 [28160/60000]\tLoss: 0.141186\n",
      "Train Epoch: 3 [28800/60000]\tLoss: 0.136895\n",
      "Train Epoch: 3 [29440/60000]\tLoss: 0.158284\n",
      "Train Epoch: 3 [30080/60000]\tLoss: 0.139405\n",
      "Train Epoch: 3 [30720/60000]\tLoss: 0.178941\n",
      "Train Epoch: 3 [31360/60000]\tLoss: 0.243409\n",
      "Train Epoch: 3 [32000/60000]\tLoss: 0.242129\n",
      "Train Epoch: 3 [32640/60000]\tLoss: 0.062789\n",
      "Train Epoch: 3 [33280/60000]\tLoss: 0.143446\n",
      "Train Epoch: 3 [33920/60000]\tLoss: 0.198178\n",
      "Train Epoch: 3 [34560/60000]\tLoss: 0.082312\n",
      "Train Epoch: 3 [35200/60000]\tLoss: 0.191828\n",
      "Train Epoch: 3 [35840/60000]\tLoss: 0.240007\n",
      "Train Epoch: 3 [36480/60000]\tLoss: 0.185863\n",
      "Train Epoch: 3 [37120/60000]\tLoss: 0.173089\n",
      "Train Epoch: 3 [37760/60000]\tLoss: 0.085730\n",
      "Train Epoch: 3 [38400/60000]\tLoss: 0.193969\n",
      "Train Epoch: 3 [39040/60000]\tLoss: 0.162129\n",
      "Train Epoch: 3 [39680/60000]\tLoss: 0.108236\n",
      "Train Epoch: 3 [40320/60000]\tLoss: 0.234216\n",
      "Train Epoch: 3 [40960/60000]\tLoss: 0.207986\n",
      "Train Epoch: 3 [41600/60000]\tLoss: 0.154475\n",
      "Train Epoch: 3 [42240/60000]\tLoss: 0.206958\n",
      "Train Epoch: 3 [42880/60000]\tLoss: 0.091535\n",
      "Train Epoch: 3 [43520/60000]\tLoss: 0.189807\n",
      "Train Epoch: 3 [44160/60000]\tLoss: 0.151721\n",
      "Train Epoch: 3 [44800/60000]\tLoss: 0.291910\n",
      "Train Epoch: 3 [45440/60000]\tLoss: 0.157304\n",
      "Train Epoch: 3 [46080/60000]\tLoss: 0.199423\n",
      "Train Epoch: 3 [46720/60000]\tLoss: 0.227964\n",
      "Train Epoch: 3 [47360/60000]\tLoss: 0.176092\n",
      "Train Epoch: 3 [48000/60000]\tLoss: 0.094982\n",
      "Train Epoch: 3 [48640/60000]\tLoss: 0.044902\n",
      "Train Epoch: 3 [49280/60000]\tLoss: 0.045964\n",
      "Train Epoch: 3 [49920/60000]\tLoss: 0.382678\n",
      "Train Epoch: 3 [50560/60000]\tLoss: 0.056353\n",
      "Train Epoch: 3 [51200/60000]\tLoss: 0.047588\n",
      "Train Epoch: 3 [51840/60000]\tLoss: 0.186603\n",
      "Train Epoch: 3 [52480/60000]\tLoss: 0.085698\n",
      "Train Epoch: 3 [53120/60000]\tLoss: 0.064773\n",
      "Train Epoch: 3 [53760/60000]\tLoss: 0.150651\n",
      "Train Epoch: 3 [54400/60000]\tLoss: 0.039259\n",
      "Train Epoch: 3 [55040/60000]\tLoss: 0.054945\n",
      "Train Epoch: 3 [55680/60000]\tLoss: 0.037663\n",
      "Train Epoch: 3 [56320/60000]\tLoss: 0.042044\n",
      "Train Epoch: 3 [56960/60000]\tLoss: 0.072402\n",
      "Train Epoch: 3 [57600/60000]\tLoss: 0.274051\n",
      "Train Epoch: 3 [58240/60000]\tLoss: 0.103496\n",
      "Train Epoch: 3 [58880/60000]\tLoss: 0.082608\n",
      "Train Epoch: 3 [59520/60000]\tLoss: 0.174900\n",
      "\n",
      "Test set: Avg. loss: 0.0683, Accuracy: 9770/10000 (98%)\n",
      "\n"
     ]
    }
   ],
   "source": [
    "# Get initial performance\n",
    "test()\n",
    "# Train for three epochs\n",
    "n_epochs = 3\n",
    "for epoch in range(1, n_epochs + 1):\n",
    "  train(epoch)\n",
    "  test()"
   ]
  },
  {
   "cell_type": "code",
   "execution_count": 17,
   "metadata": {
    "id": "o7fRUAy9Se1B"
   },
   "outputs": [
    {
     "name": "stderr",
     "output_type": "stream",
     "text": [
      "/var/folders/lz/6kl6lw7s3pg9dmb1pkl7fdlw0000gn/T/ipykernel_46714/237405460.py:23: UserWarning: Implicit dimension choice for log_softmax has been deprecated. Change the call to include dim=X as an argument.\n",
      "  x = F.log_softmax(x)\n"
     ]
    },
    {
     "data": {
      "image/png": "[encoded data removed]",
      "text/plain": [
       "<Figure size 640x480 with 6 Axes>"
      ]
     },
     "metadata": {},
     "output_type": "display_data"
    }
   ],
   "source": [
    "# Run network on data we got before and show predictions\n",
    "output = model(example_data)\n",
    "\n",
    "fig = plt.figure()\n",
    "for i in range(6):\n",
    "  plt.subplot(2,3,i+1)\n",
    "  plt.tight_layout()\n",
    "  plt.imshow(example_data[i][0], cmap='gray', interpolation='none')\n",
    "  plt.title(\"Prediction: {}\".format(\n",
    "    output.data.max(1, keepdim=True)[1][i].item()))\n",
    "  plt.xticks([])\n",
    "  plt.yticks([])\n",
    "plt.show()"
   ]
  },
  {
   "cell_type": "markdown",
   "metadata": {
    "id": "EabuoMdP32Hd"
   },
   "source": [
    "This is the code that does the adversarial attack. It is adapted from [here](https://pytorch.org/tutorials/beginner/fgsm_tutorial.html).   It is an example of the fast gradient sign method (FGSM), which modifies the data by\n",
    "\n",
    "\n",
    "\n",
    "*   Calculating the derivative $\\partial L/\\partial \\mathbf{x}$ of the loss $L$ with respect to the input data $\\mathbf{x}$.\n",
    "*   Finds the sign of the gradient at each point (making a tensor the same size as $\\mathbf{x}$ with a one where it was positive and minus one where it was negative.  \n",
    "*   Multiplying this vector by $\\epsilon$ and adding it back to the original data\n",
    "\n",
    "\n"
   ]
  },
  {
   "cell_type": "code",
   "execution_count": 20,
   "metadata": {
    "id": "gAX7tnld46q1"
   },
   "outputs": [],
   "source": [
    "# FGSM attack code.\n",
    "def fgsm_attack(x, epsilon, dLdx):\n",
    "    # TODO -- write this function\n",
    "    # Get the sign of the gradient\n",
    "    sign_grad = dLdx.sign()\n",
    "    # Add epsilon times the size of gradient to x\n",
    "    perturbed_image = x + epsilon*sign_grad\n",
    "    # Replace this line\n",
    "    perturbed_image = torch.clamp(perturbed_image, 0, 1)\n",
    "\n",
    "    # Return the perturbed image\n",
    "    return perturbed_image"
   ]
  },
  {
   "cell_type": "code",
   "execution_count": 21,
   "metadata": {
    "id": "AuNTYWboufbm"
   },
   "outputs": [
    {
     "name": "stderr",
     "output_type": "stream",
     "text": [
      "/var/folders/lz/6kl6lw7s3pg9dmb1pkl7fdlw0000gn/T/ipykernel_46714/237405460.py:23: UserWarning: Implicit dimension choice for log_softmax has been deprecated. Change the call to include dim=X as an argument.\n",
      "  x = F.log_softmax(x)\n"
     ]
    },
    {
     "data": {
      "image/png": "[encoded data removed]",
      "text/plain": [
       "<Figure size 640x480 with 2 Axes>"
      ]
     },
     "metadata": {},
     "output_type": "display_data"
    },
    {
     "data": {
      "image/png": "[encoded data removed]",
      "text/plain": [
       "<Figure size 640x480 with 2 Axes>"
      ]
     },
     "metadata": {},
     "output_type": "display_data"
    },
    {
     "data": {
      "image/png": "[encoded data removed]",
      "text/plain": [
       "<Figure size 640x480 with 2 Axes>"
      ]
     },
     "metadata": {},
     "output_type": "display_data"
    }
   ],
   "source": [
    "no_examples = 3\n",
    "epsilon = 0.5\n",
    "for i in range(no_examples):\n",
    "  # Reset gradients\n",
    "  optimizer.zero_grad()\n",
    "\n",
    "  # Get the i'th data example\n",
    "  x = example_data[i,:,:,:]\n",
    "  # Add an extra dimension back to the beginning\n",
    "  x= x[None, :,:,:]\n",
    "  x.requires_grad = True\n",
    "  # Get the i'th target\n",
    "  y = torch.ones(1, dtype=torch.long) * example_targets[i]\n",
    "\n",
    "  # Run the model\n",
    "  output = model(x)\n",
    "  # Compute the loss\n",
    "  loss = F.nll_loss(output, y)\n",
    "  # Back propagate\n",
    "  loss.backward()\n",
    "\n",
    "  # Collect ``datagrad``\n",
    "  dLdx = x.grad.data\n",
    "\n",
    "  # Call FGSM Attack\n",
    "  x_prime = fgsm_attack(x, epsilon, dLdx)\n",
    "\n",
    "  # Re-classify the perturbed image\n",
    "  output_prime = model(x_prime)\n",
    "\n",
    "  x = x.detach().numpy()\n",
    "  fig = plt.figure()\n",
    "  plt.subplot(1,2,1)\n",
    "  plt.tight_layout()\n",
    "  plt.imshow(x[0][0], cmap='gray', interpolation='none')\n",
    "  plt.title(\"Original Prediction: {}\".format(\n",
    "    output.data.max(1, keepdim=True)[1][0].item()))\n",
    "  plt.xticks([])\n",
    "  plt.yticks([])\n",
    "\n",
    "  plt.subplot(1,2,2)\n",
    "  plt.tight_layout()\n",
    "  plt.imshow(x_prime[0][0].detach().numpy(), cmap='gray', interpolation='none')\n",
    "  plt.title(\"Perturbed Prediction: {}\".format(\n",
    "    output_prime.data.max(1, keepdim=True)[1][0].item()))\n",
    "  plt.xticks([])\n",
    "  plt.yticks([])\n",
    "\n",
    "plt.show()"
   ]
  },
  {
   "cell_type": "markdown",
   "metadata": {
    "id": "vFXWK826HPQ8"
   },
   "source": [
    "Although we have only added a small amount of noise, the model is fooled into thinking that these images come from a different class.\n",
    "\n",
    "TODO -- Modify the attack so that it iteratively perturbs the data. i.e., so we take a small step epsilon, then re-calculate the gradient and take another small step according to the new gradient signs."
   ]
  }
 ],
 "metadata": {
  "colab": {
   "authorship_tag": "ABX9TyP9amtzXsNWqkmiPUQgxzKV",
   "include_colab_link": true,
   "provenance": []
  },
  "kernelspec": {
   "display_name": "Python 3 (ipykernel)",
   "language": "python",
   "name": "python3"
  },
  "language_info": {
   "codemirror_mode": {
    "name": "ipython",
    "version": 3
   },
   "file_extension": ".py",
   "mimetype": "text/x-python",
   "name": "python",
   "nbconvert_exporter": "python",
   "pygments_lexer": "ipython3",
   "version": "3.11.4"
  }
 },
 "nbformat": 4,
 "nbformat_minor": 1
}
